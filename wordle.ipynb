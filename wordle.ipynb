{
 "cells": [
  {
   "cell_type": "code",
   "execution_count": 9,
   "id": "65706560",
   "metadata": {},
   "outputs": [
    {
     "name": "stdout",
     "output_type": "stream",
     "text": [
      "Requirement already satisfied: pandas in /Users/gabrielemasciulli/opt/anaconda3/lib/python3.9/site-packages (1.3.4)\n",
      "Requirement already satisfied: python-dateutil>=2.7.3 in /Users/gabrielemasciulli/opt/anaconda3/lib/python3.9/site-packages (from pandas) (2.8.2)\n",
      "Requirement already satisfied: pytz>=2017.3 in /Users/gabrielemasciulli/opt/anaconda3/lib/python3.9/site-packages (from pandas) (2021.3)\n",
      "Requirement already satisfied: numpy>=1.17.3 in /Users/gabrielemasciulli/opt/anaconda3/lib/python3.9/site-packages (from pandas) (1.20.3)\n",
      "Requirement already satisfied: six>=1.5 in /Users/gabrielemasciulli/opt/anaconda3/lib/python3.9/site-packages (from python-dateutil>=2.7.3->pandas) (1.16.0)\n",
      "Requirement already satisfied: plotly.express in /Users/gabrielemasciulli/opt/anaconda3/lib/python3.9/site-packages (0.4.1)\n",
      "Requirement already satisfied: patsy>=0.5 in /Users/gabrielemasciulli/opt/anaconda3/lib/python3.9/site-packages (from plotly.express) (0.5.2)\n",
      "Requirement already satisfied: scipy>=0.18 in /Users/gabrielemasciulli/opt/anaconda3/lib/python3.9/site-packages (from plotly.express) (1.7.1)\n",
      "Requirement already satisfied: statsmodels>=0.9.0 in /Users/gabrielemasciulli/opt/anaconda3/lib/python3.9/site-packages (from plotly.express) (0.12.2)\n",
      "Requirement already satisfied: plotly>=4.1.0 in /Users/gabrielemasciulli/opt/anaconda3/lib/python3.9/site-packages (from plotly.express) (5.6.0)\n",
      "Requirement already satisfied: pandas>=0.20.0 in /Users/gabrielemasciulli/opt/anaconda3/lib/python3.9/site-packages (from plotly.express) (1.3.4)\n",
      "Requirement already satisfied: numpy>=1.11 in /Users/gabrielemasciulli/opt/anaconda3/lib/python3.9/site-packages (from plotly.express) (1.20.3)\n",
      "Requirement already satisfied: python-dateutil>=2.7.3 in /Users/gabrielemasciulli/opt/anaconda3/lib/python3.9/site-packages (from pandas>=0.20.0->plotly.express) (2.8.2)\n",
      "Requirement already satisfied: pytz>=2017.3 in /Users/gabrielemasciulli/opt/anaconda3/lib/python3.9/site-packages (from pandas>=0.20.0->plotly.express) (2021.3)\n",
      "Requirement already satisfied: six in /Users/gabrielemasciulli/opt/anaconda3/lib/python3.9/site-packages (from patsy>=0.5->plotly.express) (1.16.0)\n",
      "Requirement already satisfied: tenacity>=6.2.0 in /Users/gabrielemasciulli/opt/anaconda3/lib/python3.9/site-packages (from plotly>=4.1.0->plotly.express) (8.0.1)\n"
     ]
    }
   ],
   "source": [
    "import sys\n",
    "!{sys.executable} -m pip install pandas\n",
    "!{sys.executable} -m pip install plotly.express\n",
    "import pandas as pd\n",
    "import plotly.express as px"
   ]
  },
  {
   "cell_type": "code",
   "execution_count": 10,
   "id": "a27d45fa",
   "metadata": {},
   "outputs": [],
   "source": [
    "# globals\n",
    "POSSIBLE_WORDS_FILE = './data/possible_words.txt'\n",
    "ALLOWED_WORDS_FILE = './data/allowed_words.txt'"
   ]
  },
  {
   "cell_type": "code",
   "execution_count": 11,
   "id": "5b443452",
   "metadata": {},
   "outputs": [],
   "source": [
    "def get_word_list(all):  # returns a list of strings\n",
    "    result = []\n",
    "\n",
    "    # loading either the allowed or possible words\n",
    "    file = ALLOWED_WORDS_FILE if all else POSSIBLE_WORDS_FILE\n",
    "    with open(file):\n",
    "        result.extend([word.strip() for word in open(file).readlines()])\n",
    "\n",
    "    return result\n"
   ]
  },
  {
   "cell_type": "code",
   "execution_count": 12,
   "id": "66009831",
   "metadata": {},
   "outputs": [],
   "source": [
    "# returns true if the word passed as a parameter matches the given patter, false otherwise\n",
    "\n",
    "# Reminder of how Wordle works when it comes to match the pattern of an allowed  word to the word to guess:\n",
    "#   If the allowed word has multiple occurences of the same letter and one is  green\n",
    "#   and the other is black it means that the word to guess has that letter at that\n",
    "#   index but it does not have any other occurence of that letter.\n",
    "#   The same applies when it comes to yellow letters: if one occurence is yellow and\n",
    "#   the other is black it means that there's no second occurence of that letter in the\n",
    "#   word we're guessing.\n",
    "#\n",
    "# This is the reason that forces us to count the number of occurences for each letter to prevent\n",
    "# mistakes and bugs.\n",
    "\n",
    "\n",
    "def matches_pattern(word, possible_word, pattern):\n",
    "    match = False\n",
    "\n",
    "    for i, color in enumerate(pattern):\n",
    "        letter_occurences = word.count(word[i])\n",
    "\n",
    "        if color == 'black':\n",
    "            # if letter occurs just once with a black cell then the possible\n",
    "            # word must not have any occurence for that letter in order to match.\n",
    "            if letter_occurences == 1:\n",
    "                match = possible_word.find(word[i]) == -1\n",
    "            else:\n",
    "                # if the letter occurs more than once throughout the word then a\n",
    "                # match is found if both the letter at index i of the possible word\n",
    "                # doesn't correspond to to the letter at index i of the word and\n",
    "                # the number of occurences of that letter corresponds for both words.\n",
    "\n",
    "                match = possible_word[i] != word[i] and possible_word.count(\n",
    "                    word[i]) == letter_occurences\n",
    "        elif color == 'green':\n",
    "            # letter at index i MUST correspond\n",
    "            match = possible_word[i] == word[i]\n",
    "        elif color == 'yellow':\n",
    "            match = possible_word[i] != word[i] and possible_word.find(\n",
    "                word[i]) != -1\n",
    "\n",
    "        if not match:\n",
    "            break\n",
    "\n",
    "    return match"
   ]
  },
  {
   "cell_type": "code",
   "execution_count": 13,
   "id": "fc7d6128",
   "metadata": {},
   "outputs": [],
   "source": [
    "def count_words_left_from_pattern(word, pattern, possible_words):\n",
    "    count = 0\n",
    "\n",
    "    # print(pattern)\n",
    "\n",
    "    for possible_word in possible_words:\n",
    "        if matches_pattern(word, possible_word, pattern):\n",
    "            count += 1\n",
    "\n",
    "    return count"
   ]
  },
  {
   "cell_type": "code",
   "execution_count": 14,
   "id": "00d94ba3",
   "metadata": {},
   "outputs": [],
   "source": [
    "# in wordle a pattern is an assignment for each letter in the word of either the color green,\n",
    "# yellow or grey, respectively meaning that the letter was in the right position, it occured\n",
    "# at least once in the word but in the wrong position and it wasn't at all in the word.\n",
    "\n",
    "\n",
    "def compute_patterns():  # returns a list of tuples (each tuple represents a specific pattern)\n",
    "    colors = ['black', 'yellow', 'green']\n",
    "\n",
    "    patterns = []\n",
    "\n",
    "    # less verbose way to create the pattern array\n",
    "    patterns = [(a, b, c, d, e)\n",
    "                for a in colors for b in colors for c in colors for d in colors for e in colors]  # all possible patterns for a 5-letter word\n",
    "    return patterns"
   ]
  },
  {
   "cell_type": "code",
   "execution_count": 21,
   "id": "3a2e83c3",
   "metadata": {},
   "outputs": [],
   "source": [
    "def pattern_to_chart_label_string(pattern):\n",
    "    label = ''\n",
    "    \n",
    "    for color in pattern:\n",
    "        if color == 'black':\n",
    "            label += '⬛'\n",
    "        if color == 'green':\n",
    "            label += '🟩'\n",
    "        if color == 'yellow':\n",
    "            label += '🟨'\n",
    "    return label\n"
   ]
  },
  {
   "cell_type": "code",
   "execution_count": 19,
   "id": "64dc82ca",
   "metadata": {},
   "outputs": [
    {
     "data": {
      "application/vnd.plotly.v1+json": {
       "config": {
        "plotlyServerURL": "https://plot.ly"
       },
       "data": [
        {
         "alignmentgroup": "True",
         "hovertemplate": "pattern=%{x}<br>value=%{text}<extra></extra>",
         "legendgroup": "",
         "marker": {
          "color": "#636efa",
          "pattern": {
           "shape": ""
          }
         },
         "name": "",
         "offsetgroup": "",
         "orientation": "v",
         "showlegend": false,
         "text": [
          300,
          246,
          177,
          167,
          130,
          130,
          114,
          88,
          72,
          69,
          66,
          57,
          50,
          48,
          40,
          30,
          24,
          20,
          20,
          20,
          20,
          19,
          19,
          18,
          17,
          16,
          16,
          14,
          13,
          11,
          11,
          10,
          9,
          9,
          9,
          9,
          8,
          8,
          8,
          8,
          8,
          7,
          7,
          7,
          7,
          7,
          7,
          6,
          6,
          6,
          6,
          5,
          5,
          5,
          5,
          5,
          4,
          4,
          4,
          4,
          4,
          4,
          4,
          4,
          3,
          3,
          3,
          3,
          3,
          3,
          3,
          2,
          2,
          2,
          2,
          2,
          2,
          2,
          2,
          2,
          1,
          1,
          1,
          1,
          1,
          1,
          1,
          1,
          1,
          1,
          1,
          1,
          1,
          1,
          1,
          1,
          1,
          1,
          1,
          1,
          1,
          1,
          1,
          1,
          1,
          0,
          0,
          0,
          0,
          0,
          0,
          0,
          0,
          0,
          0,
          0,
          0,
          0,
          0,
          0,
          0,
          0,
          0,
          0,
          0,
          0,
          0,
          0,
          0,
          0,
          0,
          0,
          0,
          0,
          0,
          0,
          0,
          0,
          0,
          0,
          0,
          0,
          0,
          0,
          0,
          0,
          0,
          0,
          0,
          0,
          0,
          0,
          0,
          0,
          0,
          0,
          0,
          0,
          0,
          0,
          0,
          0,
          0,
          0,
          0,
          0,
          0,
          0,
          0,
          0,
          0,
          0,
          0,
          0,
          0,
          0,
          0,
          0,
          0,
          0,
          0,
          0,
          0,
          0,
          0,
          0,
          0,
          0,
          0,
          0,
          0,
          0,
          0,
          0,
          0,
          0,
          0,
          0,
          0,
          0,
          0,
          0,
          0,
          0,
          0,
          0,
          0,
          0,
          0,
          0,
          0,
          0,
          0,
          0,
          0,
          0,
          0,
          0,
          0,
          0,
          0,
          0,
          0,
          0,
          0,
          0,
          0,
          0,
          0,
          0,
          0,
          0,
          0,
          0,
          0,
          0,
          0,
          0,
          0,
          0,
          0,
          0,
          0
         ],
         "textposition": "auto",
         "type": "bar",
         "x": [
          "('black', 'black', 'black', 'black', 'black')",
          "('black', 'yellow', 'black', 'black', 'black')",
          "('black', 'yellow', 'black', 'yellow', 'black')",
          "('black', 'black', 'yellow', 'black', 'black')",
          "('black', 'black', 'black', 'black', 'green')",
          "('black', 'black', 'black', 'yellow', 'black')",
          "('black', 'yellow', 'yellow', 'black', 'black')",
          "('black', 'black', 'green', 'black', 'black')",
          "('black', 'black', 'yellow', 'yellow', 'black')",
          "('black', 'green', 'black', 'black', 'black')",
          "('black', 'black', 'yellow', 'black', 'green')",
          "('black', 'yellow', 'yellow', 'yellow', 'black')",
          "('black', 'yellow', 'green', 'black', 'black')",
          "('black', 'green', 'black', 'yellow', 'black')",
          "('black', 'black', 'green', 'yellow', 'black')",
          "('black', 'black', 'black', 'green', 'black')",
          "('black', 'black', 'black', 'yellow', 'green')",
          "('black', 'green', 'yellow', 'black', 'black')",
          "('black', 'green', 'green', 'black', 'black')",
          "('black', 'black', 'green', 'green', 'black')",
          "('black', 'yellow', 'green', 'yellow', 'black')",
          "('yellow', 'yellow', 'black', 'black', 'black')",
          "('black', 'yellow', 'black', 'black', 'green')",
          "('black', 'green', 'black', 'black', 'green')",
          "('black', 'yellow', 'black', 'green', 'black')",
          "('black', 'black', 'black', 'black', 'yellow')",
          "('yellow', 'black', 'black', 'black', 'black')",
          "('black', 'black', 'yellow', 'yellow', 'green')",
          "('green', 'yellow', 'black', 'black', 'black')",
          "('yellow', 'yellow', 'black', 'yellow', 'black')",
          "('green', 'black', 'black', 'black', 'black')",
          "('black', 'black', 'yellow', 'green', 'black')",
          "('black', 'green', 'yellow', 'yellow', 'black')",
          "('yellow', 'black', 'green', 'black', 'black')",
          "('green', 'black', 'black', 'black', 'green')",
          "('yellow', 'black', 'black', 'yellow', 'black')",
          "('green', 'yellow', 'black', 'yellow', 'black')",
          "('black', 'black', 'black', 'green', 'green')",
          "('black', 'black', 'yellow', 'green', 'green')",
          "('black', 'yellow', 'green', 'green', 'black')",
          "('black', 'black', 'green', 'black', 'green')",
          "('green', 'black', 'black', 'yellow', 'black')",
          "('black', 'green', 'black', 'yellow', 'green')",
          "('black', 'green', 'green', 'black', 'green')",
          "('yellow', 'black', 'green', 'yellow', 'black')",
          "('black', 'yellow', 'yellow', 'green', 'black')",
          "('black', 'yellow', 'black', 'yellow', 'yellow')",
          "('yellow', 'black', 'black', 'black', 'green')",
          "('black', 'yellow', 'black', 'black', 'yellow')",
          "('black', 'green', 'green', 'green', 'black')",
          "('black', 'green', 'black', 'green', 'green')",
          "('black', 'black', 'yellow', 'black', 'yellow')",
          "('green', 'yellow', 'yellow', 'yellow', 'black')",
          "('black', 'yellow', 'yellow', 'black', 'green')",
          "('green', 'black', 'yellow', 'black', 'black')",
          "('green', 'green', 'black', 'black', 'black')",
          "('black', 'yellow', 'black', 'green', 'green')",
          "('yellow', 'black', 'black', 'green', 'black')",
          "('yellow', 'black', 'yellow', 'black', 'black')",
          "('yellow', 'green', 'black', 'yellow', 'black')",
          "('black', 'black', 'black', 'yellow', 'yellow')",
          "('yellow', 'yellow', 'yellow', 'black', 'black')",
          "('green', 'yellow', 'yellow', 'black', 'black')",
          "('black', 'black', 'yellow', 'yellow', 'yellow')",
          "('black', 'green', 'green', 'yellow', 'black')",
          "('black', 'black', 'green', 'green', 'green')",
          "('black', 'yellow', 'yellow', 'yellow', 'yellow')",
          "('yellow', 'black', 'green', 'green', 'black')",
          "('black', 'green', 'black', 'green', 'black')",
          "('black', 'yellow', 'yellow', 'black', 'yellow')",
          "('yellow', 'black', 'yellow', 'black', 'green')",
          "('black', 'black', 'green', 'yellow', 'green')",
          "('green', 'black', 'green', 'yellow', 'black')",
          "('yellow', 'black', 'yellow', 'yellow', 'black')",
          "('yellow', 'green', 'black', 'black', 'black')",
          "('black', 'green', 'yellow', 'black', 'green')",
          "('black', 'black', 'black', 'green', 'yellow')",
          "('black', 'green', 'yellow', 'green', 'black')",
          "('black', 'green', 'yellow', 'yellow', 'green')",
          "('green', 'black', 'black', 'yellow', 'green')",
          "('green', 'green', 'black', 'green', 'black')",
          "('yellow', 'yellow', 'black', 'green', 'black')",
          "('yellow', 'yellow', 'yellow', 'yellow', 'black')",
          "('green', 'yellow', 'green', 'black', 'black')",
          "('yellow', 'yellow', 'green', 'black', 'black')",
          "('yellow', 'yellow', 'green', 'green', 'black')",
          "('yellow', 'green', 'black', 'black', 'green')",
          "('green', 'green', 'green', 'black', 'black')",
          "('green', 'yellow', 'black', 'green', 'black')",
          "('green', 'black', 'black', 'green', 'black')",
          "('green', 'green', 'black', 'black', 'green')",
          "('green', 'black', 'yellow', 'black', 'green')",
          "('green', 'black', 'yellow', 'yellow', 'green')",
          "('green', 'black', 'green', 'black', 'black')",
          "('green', 'black', 'green', 'green', 'black')",
          "('green', 'black', 'black', 'green', 'green')",
          "('green', 'green', 'green', 'green', 'green')",
          "('black', 'green', 'green', 'yellow', 'green')",
          "('yellow', 'black', 'yellow', 'black', 'yellow')",
          "('black', 'green', 'green', 'green', 'yellow')",
          "('black', 'green', 'green', 'green', 'green')",
          "('black', 'yellow', 'yellow', 'yellow', 'green')",
          "('black', 'green', 'green', 'black', 'yellow')",
          "('yellow', 'black', 'black', 'green', 'green')",
          "('yellow', 'black', 'black', 'yellow', 'green')",
          "('green', 'black', 'green', 'black', 'green')",
          "('black', 'yellow', 'green', 'yellow', 'yellow')",
          "('black', 'yellow', 'black', 'yellow', 'green')",
          "('green', 'yellow', 'yellow', 'green', 'green')",
          "('green', 'yellow', 'yellow', 'green', 'yellow')",
          "('black', 'yellow', 'green', 'green', 'yellow')",
          "('green', 'yellow', 'yellow', 'green', 'black')",
          "('green', 'yellow', 'yellow', 'yellow', 'green')",
          "('green', 'yellow', 'yellow', 'yellow', 'yellow')",
          "('black', 'yellow', 'black', 'green', 'yellow')",
          "('green', 'yellow', 'yellow', 'black', 'green')",
          "('green', 'black', 'yellow', 'green', 'black')",
          "('green', 'yellow', 'yellow', 'black', 'yellow')",
          "('green', 'black', 'yellow', 'green', 'yellow')",
          "('green', 'yellow', 'black', 'green', 'green')",
          "('green', 'yellow', 'black', 'green', 'yellow')",
          "('black', 'yellow', 'yellow', 'green', 'yellow')",
          "('green', 'yellow', 'black', 'yellow', 'green')",
          "('green', 'yellow', 'black', 'yellow', 'yellow')",
          "('black', 'yellow', 'yellow', 'green', 'green')",
          "('green', 'black', 'yellow', 'green', 'green')",
          "('green', 'yellow', 'black', 'black', 'green')",
          "('green', 'yellow', 'black', 'black', 'yellow')",
          "('black', 'yellow', 'green', 'black', 'yellow')",
          "('green', 'black', 'green', 'green', 'green')",
          "('green', 'black', 'green', 'green', 'yellow')",
          "('black', 'yellow', 'green', 'yellow', 'green')",
          "('black', 'yellow', 'green', 'black', 'green')",
          "('green', 'black', 'green', 'yellow', 'green')",
          "('green', 'black', 'green', 'black', 'yellow')",
          "('green', 'black', 'green', 'yellow', 'yellow')",
          "('green', 'yellow', 'green', 'black', 'yellow')",
          "('yellow', 'black', 'yellow', 'green', 'yellow')",
          "('green', 'yellow', 'green', 'black', 'green')",
          "('black', 'black', 'yellow', 'green', 'yellow')",
          "('green', 'green', 'yellow', 'yellow', 'black')",
          "('green', 'green', 'yellow', 'yellow', 'yellow')",
          "('green', 'green', 'yellow', 'yellow', 'green')",
          "('green', 'green', 'yellow', 'green', 'black')",
          "('green', 'green', 'yellow', 'green', 'yellow')",
          "('green', 'green', 'yellow', 'green', 'green')",
          "('green', 'green', 'green', 'black', 'yellow')",
          "('green', 'green', 'yellow', 'black', 'yellow')",
          "('green', 'green', 'green', 'black', 'green')",
          "('green', 'green', 'green', 'yellow', 'black')",
          "('green', 'green', 'green', 'yellow', 'yellow')",
          "('green', 'green', 'green', 'yellow', 'green')",
          "('green', 'green', 'green', 'green', 'black')",
          "('green', 'green', 'green', 'green', 'yellow')",
          "('green', 'green', 'yellow', 'black', 'green')",
          "('green', 'green', 'yellow', 'black', 'black')",
          "('green', 'yellow', 'green', 'yellow', 'black')",
          "('black', 'black', 'green', 'green', 'yellow')",
          "('green', 'black', 'yellow', 'yellow', 'black')",
          "('green', 'yellow', 'green', 'yellow', 'yellow')",
          "('green', 'yellow', 'green', 'yellow', 'green')",
          "('green', 'yellow', 'green', 'green', 'black')",
          "('green', 'yellow', 'green', 'green', 'yellow')",
          "('green', 'yellow', 'green', 'green', 'green')",
          "('green', 'green', 'black', 'black', 'yellow')",
          "('green', 'green', 'black', 'green', 'green')",
          "('black', 'black', 'green', 'yellow', 'yellow')",
          "('green', 'green', 'black', 'yellow', 'black')",
          "('green', 'green', 'black', 'yellow', 'yellow')",
          "('green', 'green', 'black', 'yellow', 'green')",
          "('black', 'black', 'green', 'black', 'yellow')",
          "('green', 'green', 'black', 'green', 'yellow')",
          "('green', 'black', 'yellow', 'yellow', 'yellow')",
          "('black', 'green', 'black', 'yellow', 'yellow')",
          "('black', 'yellow', 'green', 'green', 'green')",
          "('yellow', 'yellow', 'yellow', 'green', 'green')",
          "('yellow', 'yellow', 'yellow', 'black', 'green')",
          "('yellow', 'black', 'black', 'yellow', 'yellow')",
          "('yellow', 'black', 'black', 'black', 'yellow')",
          "('yellow', 'yellow', 'yellow', 'yellow', 'green')",
          "('yellow', 'yellow', 'yellow', 'green', 'black')",
          "('yellow', 'yellow', 'yellow', 'green', 'yellow')",
          "('yellow', 'yellow', 'green', 'black', 'yellow')",
          "('black', 'green', 'green', 'yellow', 'yellow')",
          "('yellow', 'yellow', 'green', 'black', 'green')",
          "('yellow', 'yellow', 'green', 'yellow', 'black')",
          "('yellow', 'yellow', 'green', 'yellow', 'yellow')",
          "('yellow', 'yellow', 'green', 'yellow', 'green')",
          "('yellow', 'yellow', 'green', 'green', 'yellow')",
          "('yellow', 'yellow', 'green', 'green', 'green')",
          "('yellow', 'yellow', 'yellow', 'black', 'yellow')",
          "('yellow', 'yellow', 'black', 'green', 'green')",
          "('yellow', 'yellow', 'black', 'green', 'yellow')",
          "('yellow', 'black', 'black', 'green', 'yellow')",
          "('yellow', 'yellow', 'black', 'yellow', 'green')",
          "('yellow', 'yellow', 'black', 'yellow', 'yellow')",
          "('yellow', 'yellow', 'black', 'black', 'green')",
          "('yellow', 'yellow', 'black', 'black', 'yellow')",
          "('yellow', 'black', 'green', 'green', 'green')",
          "('yellow', 'black', 'green', 'green', 'yellow')",
          "('yellow', 'black', 'yellow', 'yellow', 'yellow')",
          "('yellow', 'black', 'green', 'yellow', 'green')",
          "('yellow', 'black', 'green', 'yellow', 'yellow')",
          "('yellow', 'black', 'yellow', 'yellow', 'green')",
          "('yellow', 'black', 'green', 'black', 'green')",
          "('yellow', 'black', 'green', 'black', 'yellow')",
          "('yellow', 'black', 'yellow', 'green', 'black')",
          "('yellow', 'green', 'black', 'black', 'yellow')",
          "('yellow', 'green', 'black', 'yellow', 'yellow')",
          "('green', 'black', 'yellow', 'black', 'yellow')",
          "('black', 'green', 'yellow', 'green', 'yellow')",
          "('yellow', 'green', 'green', 'yellow', 'green')",
          "('yellow', 'green', 'green', 'green', 'black')",
          "('yellow', 'green', 'green', 'green', 'yellow')",
          "('yellow', 'green', 'green', 'green', 'green')",
          "('black', 'green', 'yellow', 'green', 'green')",
          "('green', 'black', 'black', 'black', 'yellow')",
          "('black', 'green', 'yellow', 'yellow', 'yellow')",
          "('yellow', 'green', 'black', 'yellow', 'green')",
          "('green', 'black', 'black', 'yellow', 'yellow')",
          "('black', 'green', 'yellow', 'black', 'yellow')",
          "('black', 'green', 'black', 'green', 'yellow')",
          "('green', 'black', 'black', 'green', 'yellow')",
          "('yellow', 'black', 'yellow', 'green', 'green')",
          "('black', 'green', 'black', 'black', 'yellow')",
          "('yellow', 'green', 'green', 'yellow', 'yellow')",
          "('yellow', 'green', 'green', 'yellow', 'black')",
          "('yellow', 'green', 'green', 'black', 'green')",
          "('yellow', 'green', 'green', 'black', 'yellow')",
          "('yellow', 'green', 'green', 'black', 'black')",
          "('yellow', 'green', 'yellow', 'green', 'green')",
          "('yellow', 'green', 'yellow', 'green', 'yellow')",
          "('yellow', 'green', 'yellow', 'green', 'black')",
          "('yellow', 'green', 'yellow', 'yellow', 'green')",
          "('yellow', 'green', 'yellow', 'yellow', 'yellow')",
          "('yellow', 'green', 'yellow', 'yellow', 'black')",
          "('yellow', 'green', 'yellow', 'black', 'green')",
          "('yellow', 'green', 'yellow', 'black', 'yellow')",
          "('yellow', 'green', 'yellow', 'black', 'black')",
          "('yellow', 'green', 'black', 'green', 'green')",
          "('yellow', 'green', 'black', 'green', 'yellow')",
          "('yellow', 'green', 'black', 'green', 'black')",
          "('yellow', 'yellow', 'yellow', 'yellow', 'yellow')"
         ],
         "xaxis": "x",
         "y": [
          300,
          246,
          177,
          167,
          130,
          130,
          114,
          88,
          72,
          69,
          66,
          57,
          50,
          48,
          40,
          30,
          24,
          20,
          20,
          20,
          20,
          19,
          19,
          18,
          17,
          16,
          16,
          14,
          13,
          11,
          11,
          10,
          9,
          9,
          9,
          9,
          8,
          8,
          8,
          8,
          8,
          7,
          7,
          7,
          7,
          7,
          7,
          6,
          6,
          6,
          6,
          5,
          5,
          5,
          5,
          5,
          4,
          4,
          4,
          4,
          4,
          4,
          4,
          4,
          3,
          3,
          3,
          3,
          3,
          3,
          3,
          2,
          2,
          2,
          2,
          2,
          2,
          2,
          2,
          2,
          1,
          1,
          1,
          1,
          1,
          1,
          1,
          1,
          1,
          1,
          1,
          1,
          1,
          1,
          1,
          1,
          1,
          1,
          1,
          1,
          1,
          1,
          1,
          1,
          1,
          0,
          0,
          0,
          0,
          0,
          0,
          0,
          0,
          0,
          0,
          0,
          0,
          0,
          0,
          0,
          0,
          0,
          0,
          0,
          0,
          0,
          0,
          0,
          0,
          0,
          0,
          0,
          0,
          0,
          0,
          0,
          0,
          0,
          0,
          0,
          0,
          0,
          0,
          0,
          0,
          0,
          0,
          0,
          0,
          0,
          0,
          0,
          0,
          0,
          0,
          0,
          0,
          0,
          0,
          0,
          0,
          0,
          0,
          0,
          0,
          0,
          0,
          0,
          0,
          0,
          0,
          0,
          0,
          0,
          0,
          0,
          0,
          0,
          0,
          0,
          0,
          0,
          0,
          0,
          0,
          0,
          0,
          0,
          0,
          0,
          0,
          0,
          0,
          0,
          0,
          0,
          0,
          0,
          0,
          0,
          0,
          0,
          0,
          0,
          0,
          0,
          0,
          0,
          0,
          0,
          0,
          0,
          0,
          0,
          0,
          0,
          0,
          0,
          0,
          0,
          0,
          0,
          0,
          0,
          0,
          0,
          0,
          0,
          0,
          0,
          0,
          0,
          0,
          0,
          0,
          0,
          0,
          0,
          0,
          0,
          0,
          0,
          0
         ],
         "yaxis": "y"
        }
       ],
       "layout": {
        "barmode": "relative",
        "height": 900,
        "legend": {
         "tracegroupgap": 0
        },
        "template": {
         "data": {
          "bar": [
           {
            "error_x": {
             "color": "#2a3f5f"
            },
            "error_y": {
             "color": "#2a3f5f"
            },
            "marker": {
             "line": {
              "color": "#E5ECF6",
              "width": 0.5
             },
             "pattern": {
              "fillmode": "overlay",
              "size": 10,
              "solidity": 0.2
             }
            },
            "type": "bar"
           }
          ],
          "barpolar": [
           {
            "marker": {
             "line": {
              "color": "#E5ECF6",
              "width": 0.5
             },
             "pattern": {
              "fillmode": "overlay",
              "size": 10,
              "solidity": 0.2
             }
            },
            "type": "barpolar"
           }
          ],
          "carpet": [
           {
            "aaxis": {
             "endlinecolor": "#2a3f5f",
             "gridcolor": "white",
             "linecolor": "white",
             "minorgridcolor": "white",
             "startlinecolor": "#2a3f5f"
            },
            "baxis": {
             "endlinecolor": "#2a3f5f",
             "gridcolor": "white",
             "linecolor": "white",
             "minorgridcolor": "white",
             "startlinecolor": "#2a3f5f"
            },
            "type": "carpet"
           }
          ],
          "choropleth": [
           {
            "colorbar": {
             "outlinewidth": 0,
             "ticks": ""
            },
            "type": "choropleth"
           }
          ],
          "contour": [
           {
            "colorbar": {
             "outlinewidth": 0,
             "ticks": ""
            },
            "colorscale": [
             [
              0,
              "#0d0887"
             ],
             [
              0.1111111111111111,
              "#46039f"
             ],
             [
              0.2222222222222222,
              "#7201a8"
             ],
             [
              0.3333333333333333,
              "#9c179e"
             ],
             [
              0.4444444444444444,
              "#bd3786"
             ],
             [
              0.5555555555555556,
              "#d8576b"
             ],
             [
              0.6666666666666666,
              "#ed7953"
             ],
             [
              0.7777777777777778,
              "#fb9f3a"
             ],
             [
              0.8888888888888888,
              "#fdca26"
             ],
             [
              1,
              "#f0f921"
             ]
            ],
            "type": "contour"
           }
          ],
          "contourcarpet": [
           {
            "colorbar": {
             "outlinewidth": 0,
             "ticks": ""
            },
            "type": "contourcarpet"
           }
          ],
          "heatmap": [
           {
            "colorbar": {
             "outlinewidth": 0,
             "ticks": ""
            },
            "colorscale": [
             [
              0,
              "#0d0887"
             ],
             [
              0.1111111111111111,
              "#46039f"
             ],
             [
              0.2222222222222222,
              "#7201a8"
             ],
             [
              0.3333333333333333,
              "#9c179e"
             ],
             [
              0.4444444444444444,
              "#bd3786"
             ],
             [
              0.5555555555555556,
              "#d8576b"
             ],
             [
              0.6666666666666666,
              "#ed7953"
             ],
             [
              0.7777777777777778,
              "#fb9f3a"
             ],
             [
              0.8888888888888888,
              "#fdca26"
             ],
             [
              1,
              "#f0f921"
             ]
            ],
            "type": "heatmap"
           }
          ],
          "heatmapgl": [
           {
            "colorbar": {
             "outlinewidth": 0,
             "ticks": ""
            },
            "colorscale": [
             [
              0,
              "#0d0887"
             ],
             [
              0.1111111111111111,
              "#46039f"
             ],
             [
              0.2222222222222222,
              "#7201a8"
             ],
             [
              0.3333333333333333,
              "#9c179e"
             ],
             [
              0.4444444444444444,
              "#bd3786"
             ],
             [
              0.5555555555555556,
              "#d8576b"
             ],
             [
              0.6666666666666666,
              "#ed7953"
             ],
             [
              0.7777777777777778,
              "#fb9f3a"
             ],
             [
              0.8888888888888888,
              "#fdca26"
             ],
             [
              1,
              "#f0f921"
             ]
            ],
            "type": "heatmapgl"
           }
          ],
          "histogram": [
           {
            "marker": {
             "pattern": {
              "fillmode": "overlay",
              "size": 10,
              "solidity": 0.2
             }
            },
            "type": "histogram"
           }
          ],
          "histogram2d": [
           {
            "colorbar": {
             "outlinewidth": 0,
             "ticks": ""
            },
            "colorscale": [
             [
              0,
              "#0d0887"
             ],
             [
              0.1111111111111111,
              "#46039f"
             ],
             [
              0.2222222222222222,
              "#7201a8"
             ],
             [
              0.3333333333333333,
              "#9c179e"
             ],
             [
              0.4444444444444444,
              "#bd3786"
             ],
             [
              0.5555555555555556,
              "#d8576b"
             ],
             [
              0.6666666666666666,
              "#ed7953"
             ],
             [
              0.7777777777777778,
              "#fb9f3a"
             ],
             [
              0.8888888888888888,
              "#fdca26"
             ],
             [
              1,
              "#f0f921"
             ]
            ],
            "type": "histogram2d"
           }
          ],
          "histogram2dcontour": [
           {
            "colorbar": {
             "outlinewidth": 0,
             "ticks": ""
            },
            "colorscale": [
             [
              0,
              "#0d0887"
             ],
             [
              0.1111111111111111,
              "#46039f"
             ],
             [
              0.2222222222222222,
              "#7201a8"
             ],
             [
              0.3333333333333333,
              "#9c179e"
             ],
             [
              0.4444444444444444,
              "#bd3786"
             ],
             [
              0.5555555555555556,
              "#d8576b"
             ],
             [
              0.6666666666666666,
              "#ed7953"
             ],
             [
              0.7777777777777778,
              "#fb9f3a"
             ],
             [
              0.8888888888888888,
              "#fdca26"
             ],
             [
              1,
              "#f0f921"
             ]
            ],
            "type": "histogram2dcontour"
           }
          ],
          "mesh3d": [
           {
            "colorbar": {
             "outlinewidth": 0,
             "ticks": ""
            },
            "type": "mesh3d"
           }
          ],
          "parcoords": [
           {
            "line": {
             "colorbar": {
              "outlinewidth": 0,
              "ticks": ""
             }
            },
            "type": "parcoords"
           }
          ],
          "pie": [
           {
            "automargin": true,
            "type": "pie"
           }
          ],
          "scatter": [
           {
            "marker": {
             "colorbar": {
              "outlinewidth": 0,
              "ticks": ""
             }
            },
            "type": "scatter"
           }
          ],
          "scatter3d": [
           {
            "line": {
             "colorbar": {
              "outlinewidth": 0,
              "ticks": ""
             }
            },
            "marker": {
             "colorbar": {
              "outlinewidth": 0,
              "ticks": ""
             }
            },
            "type": "scatter3d"
           }
          ],
          "scattercarpet": [
           {
            "marker": {
             "colorbar": {
              "outlinewidth": 0,
              "ticks": ""
             }
            },
            "type": "scattercarpet"
           }
          ],
          "scattergeo": [
           {
            "marker": {
             "colorbar": {
              "outlinewidth": 0,
              "ticks": ""
             }
            },
            "type": "scattergeo"
           }
          ],
          "scattergl": [
           {
            "marker": {
             "colorbar": {
              "outlinewidth": 0,
              "ticks": ""
             }
            },
            "type": "scattergl"
           }
          ],
          "scattermapbox": [
           {
            "marker": {
             "colorbar": {
              "outlinewidth": 0,
              "ticks": ""
             }
            },
            "type": "scattermapbox"
           }
          ],
          "scatterpolar": [
           {
            "marker": {
             "colorbar": {
              "outlinewidth": 0,
              "ticks": ""
             }
            },
            "type": "scatterpolar"
           }
          ],
          "scatterpolargl": [
           {
            "marker": {
             "colorbar": {
              "outlinewidth": 0,
              "ticks": ""
             }
            },
            "type": "scatterpolargl"
           }
          ],
          "scatterternary": [
           {
            "marker": {
             "colorbar": {
              "outlinewidth": 0,
              "ticks": ""
             }
            },
            "type": "scatterternary"
           }
          ],
          "surface": [
           {
            "colorbar": {
             "outlinewidth": 0,
             "ticks": ""
            },
            "colorscale": [
             [
              0,
              "#0d0887"
             ],
             [
              0.1111111111111111,
              "#46039f"
             ],
             [
              0.2222222222222222,
              "#7201a8"
             ],
             [
              0.3333333333333333,
              "#9c179e"
             ],
             [
              0.4444444444444444,
              "#bd3786"
             ],
             [
              0.5555555555555556,
              "#d8576b"
             ],
             [
              0.6666666666666666,
              "#ed7953"
             ],
             [
              0.7777777777777778,
              "#fb9f3a"
             ],
             [
              0.8888888888888888,
              "#fdca26"
             ],
             [
              1,
              "#f0f921"
             ]
            ],
            "type": "surface"
           }
          ],
          "table": [
           {
            "cells": {
             "fill": {
              "color": "#EBF0F8"
             },
             "line": {
              "color": "white"
             }
            },
            "header": {
             "fill": {
              "color": "#C8D4E3"
             },
             "line": {
              "color": "white"
             }
            },
            "type": "table"
           }
          ]
         },
         "layout": {
          "annotationdefaults": {
           "arrowcolor": "#2a3f5f",
           "arrowhead": 0,
           "arrowwidth": 1
          },
          "autotypenumbers": "strict",
          "coloraxis": {
           "colorbar": {
            "outlinewidth": 0,
            "ticks": ""
           }
          },
          "colorscale": {
           "diverging": [
            [
             0,
             "#8e0152"
            ],
            [
             0.1,
             "#c51b7d"
            ],
            [
             0.2,
             "#de77ae"
            ],
            [
             0.3,
             "#f1b6da"
            ],
            [
             0.4,
             "#fde0ef"
            ],
            [
             0.5,
             "#f7f7f7"
            ],
            [
             0.6,
             "#e6f5d0"
            ],
            [
             0.7,
             "#b8e186"
            ],
            [
             0.8,
             "#7fbc41"
            ],
            [
             0.9,
             "#4d9221"
            ],
            [
             1,
             "#276419"
            ]
           ],
           "sequential": [
            [
             0,
             "#0d0887"
            ],
            [
             0.1111111111111111,
             "#46039f"
            ],
            [
             0.2222222222222222,
             "#7201a8"
            ],
            [
             0.3333333333333333,
             "#9c179e"
            ],
            [
             0.4444444444444444,
             "#bd3786"
            ],
            [
             0.5555555555555556,
             "#d8576b"
            ],
            [
             0.6666666666666666,
             "#ed7953"
            ],
            [
             0.7777777777777778,
             "#fb9f3a"
            ],
            [
             0.8888888888888888,
             "#fdca26"
            ],
            [
             1,
             "#f0f921"
            ]
           ],
           "sequentialminus": [
            [
             0,
             "#0d0887"
            ],
            [
             0.1111111111111111,
             "#46039f"
            ],
            [
             0.2222222222222222,
             "#7201a8"
            ],
            [
             0.3333333333333333,
             "#9c179e"
            ],
            [
             0.4444444444444444,
             "#bd3786"
            ],
            [
             0.5555555555555556,
             "#d8576b"
            ],
            [
             0.6666666666666666,
             "#ed7953"
            ],
            [
             0.7777777777777778,
             "#fb9f3a"
            ],
            [
             0.8888888888888888,
             "#fdca26"
            ],
            [
             1,
             "#f0f921"
            ]
           ]
          },
          "colorway": [
           "#636efa",
           "#EF553B",
           "#00cc96",
           "#ab63fa",
           "#FFA15A",
           "#19d3f3",
           "#FF6692",
           "#B6E880",
           "#FF97FF",
           "#FECB52"
          ],
          "font": {
           "color": "#2a3f5f"
          },
          "geo": {
           "bgcolor": "white",
           "lakecolor": "white",
           "landcolor": "#E5ECF6",
           "showlakes": true,
           "showland": true,
           "subunitcolor": "white"
          },
          "hoverlabel": {
           "align": "left"
          },
          "hovermode": "closest",
          "mapbox": {
           "style": "light"
          },
          "paper_bgcolor": "white",
          "plot_bgcolor": "#E5ECF6",
          "polar": {
           "angularaxis": {
            "gridcolor": "white",
            "linecolor": "white",
            "ticks": ""
           },
           "bgcolor": "#E5ECF6",
           "radialaxis": {
            "gridcolor": "white",
            "linecolor": "white",
            "ticks": ""
           }
          },
          "scene": {
           "xaxis": {
            "backgroundcolor": "#E5ECF6",
            "gridcolor": "white",
            "gridwidth": 2,
            "linecolor": "white",
            "showbackground": true,
            "ticks": "",
            "zerolinecolor": "white"
           },
           "yaxis": {
            "backgroundcolor": "#E5ECF6",
            "gridcolor": "white",
            "gridwidth": 2,
            "linecolor": "white",
            "showbackground": true,
            "ticks": "",
            "zerolinecolor": "white"
           },
           "zaxis": {
            "backgroundcolor": "#E5ECF6",
            "gridcolor": "white",
            "gridwidth": 2,
            "linecolor": "white",
            "showbackground": true,
            "ticks": "",
            "zerolinecolor": "white"
           }
          },
          "shapedefaults": {
           "line": {
            "color": "#2a3f5f"
           }
          },
          "ternary": {
           "aaxis": {
            "gridcolor": "white",
            "linecolor": "white",
            "ticks": ""
           },
           "baxis": {
            "gridcolor": "white",
            "linecolor": "white",
            "ticks": ""
           },
           "bgcolor": "#E5ECF6",
           "caxis": {
            "gridcolor": "white",
            "linecolor": "white",
            "ticks": ""
           }
          },
          "title": {
           "x": 0.05
          },
          "xaxis": {
           "automargin": true,
           "gridcolor": "white",
           "linecolor": "white",
           "ticks": "",
           "title": {
            "standoff": 15
           },
           "zerolinecolor": "white",
           "zerolinewidth": 2
          },
          "yaxis": {
           "automargin": true,
           "gridcolor": "white",
           "linecolor": "white",
           "ticks": "",
           "title": {
            "standoff": 15
           },
           "zerolinecolor": "white",
           "zerolinewidth": 2
          }
         }
        },
        "title": {
         "text": "Words left distribution for word: \"WEARY\""
        },
        "xaxis": {
         "anchor": "y",
         "domain": [
          0,
          1
         ],
         "title": {
          "text": "pattern"
         }
        },
        "yaxis": {
         "anchor": "x",
         "domain": [
          0,
          1
         ],
         "showgrid": false,
         "title": {
          "text": "value"
         },
         "zeroline": false
        }
       }
      }
     },
     "metadata": {},
     "output_type": "display_data"
    }
   ],
   "source": [
    "word = \"weary\"\n",
    "patterns = compute_patterns()\n",
    "possible_words = get_word_list(all=False)\n",
    "\n",
    "# array mapping the number of words left for each pattern related to a given word\n",
    "words_left = []\n",
    "\n",
    "for pattern in patterns:\n",
    "    words_left.append({\n",
    "        'pattern': str(pattern), 'value': count_words_left_from_pattern(word, pattern, possible_words)})\n",
    "\n",
    "# building pandas like data frame sorted by value compatible with plotly express bar\n",
    "df = pd.DataFrame(\n",
    "    data=words_left,\n",
    "    columns=['pattern', 'value']\n",
    ").sort_values(\n",
    "    by='value',\n",
    "    ascending=False\n",
    ")\n",
    "\n",
    "fig = px.bar(\n",
    "    data_frame=df,\n",
    "    x='pattern',\n",
    "    y='value',\n",
    "    title=f'Words left distribution for word: \"{word.upper()}\"',\n",
    "    height=900,\n",
    "    text='value'\n",
    ")\n",
    "fig.update_yaxes(showgrid=False, zeroline=False)\n",
    "\n",
    "fig.show()"
   ]
  }
 ],
 "metadata": {
  "kernelspec": {
   "display_name": "Python 3 (ipykernel)",
   "language": "python",
   "name": "python3"
  },
  "language_info": {
   "codemirror_mode": {
    "name": "ipython",
    "version": 3
   },
   "file_extension": ".py",
   "mimetype": "text/x-python",
   "name": "python",
   "nbconvert_exporter": "python",
   "pygments_lexer": "ipython3",
   "version": "3.9.7"
  }
 },
 "nbformat": 4,
 "nbformat_minor": 5
}
