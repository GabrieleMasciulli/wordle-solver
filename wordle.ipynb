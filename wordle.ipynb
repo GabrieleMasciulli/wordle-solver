{
 "cells": [
  {
   "cell_type": "code",
   "execution_count": 1,
   "id": "65706560",
   "metadata": {},
   "outputs": [],
   "source": [
    "import sys\n",
    "import pandas as pd\n",
    "import plotly.express as px\n",
    "import json\n",
    "from math import log2\n",
    "from tqdm.notebook import tqdm"
   ]
  },
  {
   "cell_type": "code",
   "execution_count": 2,
   "id": "a27d45fa",
   "metadata": {},
   "outputs": [],
   "source": [
    "# globals\n",
    "POSSIBLE_WORDS_FILE = './data/possible_words.txt'\n",
    "ALLOWED_WORDS_FILE = './data/allowed_words.txt'"
   ]
  },
  {
   "cell_type": "code",
   "execution_count": 3,
   "id": "5b443452",
   "metadata": {},
   "outputs": [],
   "source": [
    "def get_word_list(all):  # returns a list of strings\n",
    "    result = []\n",
    "\n",
    "    # loading either the allowed or possible words\n",
    "    file = ALLOWED_WORDS_FILE if all else POSSIBLE_WORDS_FILE\n",
    "    with open(file):\n",
    "        result.extend([word.strip() for word in open(file).readlines()])\n",
    "\n",
    "    return result\n"
   ]
  },
  {
   "cell_type": "code",
   "execution_count": 4,
   "id": "66009831",
   "metadata": {},
   "outputs": [],
   "source": [
    "# returns true if the word passed as a parameter matches the given patter, false otherwise\n",
    "\n",
    "# Reminder of how Wordle works when it comes to match the pattern of an allowed  word to the word to guess:\n",
    "#   If the allowed word has multiple occurences of the same letter and one is  green\n",
    "#   and the other is black it means that the word to guess has that letter at that\n",
    "#   index but it does not have any other occurence of that letter.\n",
    "#   The same applies when it comes to yellow letters: if one occurence is yellow and\n",
    "#   the other is black it means that there's no second occurence of that letter in the\n",
    "#   word we're guessing.\n",
    "#\n",
    "# This is the reason that forces us to count the number of occurences for each letter to prevent\n",
    "# mistakes and bugs.\n",
    "\n",
    "\n",
    "def matches_pattern(word, possible_word, pattern):\n",
    "    match = False\n",
    "\n",
    "    for i, color in enumerate(pattern):\n",
    "        letter_occurences = word.count(word[i])\n",
    "\n",
    "        if color == 'black':\n",
    "            # if letter occurs just once with a black cell then the possible\n",
    "            # word must not have any occurence for that letter in order to match.\n",
    "            if letter_occurences == 1:\n",
    "                match = possible_word.find(word[i]) == -1\n",
    "            else:\n",
    "                # if the letter occurs more than once throughout the word then a\n",
    "                # match is found if both the letter at index i of the possible word\n",
    "                # doesn't correspond to to the letter at index i of the word and\n",
    "                # the number of occurences of that letter corresponds for both words.\n",
    "\n",
    "                match = possible_word[i] != word[i] and possible_word.count(\n",
    "                    word[i]) == letter_occurences\n",
    "        elif color == 'green':\n",
    "            # letter at index i MUST correspond\n",
    "            match = possible_word[i] == word[i]\n",
    "        elif color == 'yellow':\n",
    "            match = possible_word[i] != word[i] and possible_word.find(\n",
    "                word[i]) != -1\n",
    "\n",
    "        if not match:\n",
    "            break\n",
    "\n",
    "    return match"
   ]
  },
  {
   "cell_type": "code",
   "execution_count": 5,
   "id": "fc7d6128",
   "metadata": {},
   "outputs": [],
   "source": [
    "def count_words_left_from_pattern(word, pattern, possible_words):\n",
    "    count = 0\n",
    "    words_left = []\n",
    "\n",
    "    for possible_word in possible_words:\n",
    "        if matches_pattern(word, possible_word, pattern):\n",
    "            count += 1\n",
    "            words_left.append(possible_word)\n",
    "\n",
    "    return (count, words_left)"
   ]
  },
  {
   "cell_type": "code",
   "execution_count": 6,
   "id": "00d94ba3",
   "metadata": {},
   "outputs": [],
   "source": [
    "# in wordle a pattern is an assignment for each letter in the word of either the color green,\n",
    "# yellow or grey, respectively meaning that the letter was in the right position, it occured\n",
    "# at least once in the word but in the wrong position and it wasn't at all in the word.\n",
    "\n",
    "\n",
    "def compute_patterns():  # returns a list of tuples (each tuple represents a specific pattern)\n",
    "    colors = ['black', 'yellow', 'green']\n",
    "\n",
    "    patterns = []\n",
    "\n",
    "    # less verbose way to create the pattern array\n",
    "    patterns = [(a, b, c, d, e)\n",
    "                for a in tqdm(colors, \"Generating patterns\") for b in colors for c in colors for d in colors for e in colors]  # all possible patterns for a 5-letter word\n",
    "    return patterns"
   ]
  },
  {
   "cell_type": "code",
   "execution_count": 7,
   "id": "3a2e83c3",
   "metadata": {},
   "outputs": [],
   "source": [
    "# returns a string used by the chart to display each pattern in the x-axis labels\n",
    "\n",
    "def pattern_to_chart_label_string(pattern):\n",
    "    label = ''\n",
    "    \n",
    "    for color in pattern:\n",
    "        if color == 'black':\n",
    "            label += '⬛'\n",
    "        if color == 'green':\n",
    "            label += '🟩'\n",
    "        if color == 'yellow':\n",
    "            label += '🟨'\n",
    "    return label"
   ]
  },
  {
   "cell_type": "code",
   "execution_count": 8,
   "id": "9fae35af",
   "metadata": {},
   "outputs": [],
   "source": [
    "# probabilty in this case is defined as the words left\n",
    "# from a specific pattern over the total number of words\n",
    "def probability(words_total, words_left):\n",
    "    return words_left / words_total"
   ]
  },
  {
   "cell_type": "code",
   "execution_count": 9,
   "id": "7ac97ae7",
   "metadata": {},
   "outputs": [],
   "source": [
    "# surprise is defined as the logarithm base 2 of one over the probability\n",
    "def surprise(probability):\n",
    "    return log2(1/probability)"
   ]
  },
  {
   "cell_type": "code",
   "execution_count": 10,
   "id": "f3c0be96",
   "metadata": {},
   "outputs": [],
   "source": [
    "# entropy is the expected value of the surprise given a specific patter related to a word.\n",
    "#\n",
    "# In our case the entropy is defined as:\n",
    "# E(surpise) = - ∑ p(x) * log2(p(x))\n",
    "#\n",
    "# where p(x) is the probability to get a pattern x and \n",
    "# log2(p(x)) is the surpise we get given a pattern\n",
    "\n",
    "def calculate_entropy(word, possible_words, patterns):\n",
    "    E = 0\n",
    "    \n",
    "    for pattern in tqdm(patterns, f'Calculating entropy for \"{word}\"'):\n",
    "        count, words_left = count_words_left_from_pattern(word, pattern, possible_words)\n",
    "        if count > 0:\n",
    "            p = probability(len(possible_words), len(words_left))\n",
    "            s = surprise(p)\n",
    "            E += s * p\n",
    "        \n",
    "    return E"
   ]
  },
  {
   "cell_type": "code",
   "execution_count": 11,
   "id": "6ff085b5",
   "metadata": {},
   "outputs": [],
   "source": [
    "def write_json(new_data, filename):\n",
    "    with open(filename, 'r+') as file:\n",
    "        # Loading existing data into a dictionary\n",
    "        file_data = json.load(file)\n",
    "        file_data['entropies'].update(new_data)\n",
    "        file.seek(0)\n",
    "        json.dump(file_data, file, indent=4)"
   ]
  },
  {
   "cell_type": "code",
   "execution_count": 73,
   "id": "64dc82ca",
   "metadata": {
    "collapsed": true
   },
   "outputs": [
    {
     "data": {
      "application/vnd.plotly.v1+json": {
       "config": {
        "plotlyServerURL": "https://plot.ly"
       },
       "data": [
        {
         "alignmentgroup": "True",
         "hovertemplate": "pattern=%{x}<br>value=%{text}<extra></extra>",
         "legendgroup": "",
         "marker": {
          "color": "rgb(37,106,236)",
          "line": {
           "width": 1.5
          },
          "pattern": {
           "shape": ""
          }
         },
         "name": "",
         "offsetgroup": "",
         "orientation": "v",
         "showlegend": false,
         "text": [
          2457,
          1680,
          785,
          766,
          686,
          378,
          320,
          306,
          303,
          301,
          292,
          285,
          275,
          244,
          232,
          226,
          194,
          183,
          169,
          144,
          134,
          133,
          125,
          109,
          97,
          93,
          90,
          89,
          82,
          75,
          70,
          63,
          59,
          52,
          48,
          48,
          46,
          44,
          44,
          42,
          39,
          38,
          36,
          35,
          33,
          30,
          30,
          30,
          30,
          29,
          29,
          27,
          26,
          25,
          25,
          25,
          25,
          24,
          24,
          22,
          22,
          21,
          20,
          20,
          20,
          20,
          18,
          16,
          16,
          15,
          15,
          14,
          14,
          14,
          13,
          13,
          13,
          13,
          13,
          12,
          12,
          12,
          12,
          11,
          10,
          10,
          9,
          9,
          9,
          8,
          8,
          8,
          8,
          7,
          7,
          7,
          6,
          6,
          6,
          6,
          5,
          5,
          5,
          4,
          4,
          4,
          4,
          4,
          4,
          4,
          4,
          4,
          4,
          3,
          3,
          3,
          3,
          3,
          3,
          3,
          2,
          2,
          2,
          2,
          2,
          2,
          2,
          2,
          2,
          2,
          2,
          2,
          2,
          2,
          2,
          2,
          1,
          1,
          1,
          1,
          1,
          1,
          1,
          1,
          1,
          1,
          1,
          1,
          1,
          1,
          1,
          1,
          1,
          1,
          1,
          1
         ],
         "textposition": "auto",
         "type": "bar",
         "x": [
          "⬛⬛⬛⬛⬛",
          "⬛⬛⬛⬛🟩",
          "⬛⬛🟨⬛⬛",
          "⬛⬛⬛⬛🟨",
          "⬛⬛⬛🟨⬛",
          "⬛⬛🟨⬛🟩",
          "🟩⬛⬛⬛⬛",
          "🟨⬛⬛⬛⬛",
          "⬛🟨⬛⬛⬛",
          "⬛⬛⬛🟨🟨",
          "⬛🟩⬛⬛⬛",
          "⬛⬛⬛🟨🟩",
          "⬛⬛🟩⬛⬛",
          "⬛⬛⬛🟩🟩",
          "⬛⬛⬛🟩⬛",
          "⬛🟩⬛⬛🟩",
          "⬛⬛🟩⬛🟩",
          "⬛⬛🟨⬛🟨",
          "⬛🟨⬛⬛🟩",
          "🟩⬛⬛⬛🟩",
          "⬛⬛🟨🟨⬛",
          "⬛🟨🟨⬛⬛",
          "🟨⬛⬛⬛🟩",
          "🟨⬛⬛🟨⬛",
          "⬛🟨⬛⬛🟨",
          "🟨⬛⬛⬛🟨",
          "🟩⬛🟨⬛⬛",
          "⬛🟨⬛🟨⬛",
          "⬛⬛⬛🟩🟨",
          "⬛🟩⬛⬛🟨",
          "⬛🟩🟨⬛⬛",
          "⬛🟩⬛🟨⬛",
          "🟨⬛🟨⬛⬛",
          "⬛⬛🟩⬛🟨",
          "⬛🟨⬛🟨🟨",
          "🟨🟩⬛⬛⬛",
          "⬛⬛🟨🟨🟨",
          "⬛⬛🟩🟨⬛",
          "⬛🟨🟨⬛🟩",
          "⬛🟩🟩⬛⬛",
          "⬛🟩⬛🟩⬛",
          "⬛🟩🟩⬛🟩",
          "🟩🟨⬛⬛⬛",
          "⬛⬛🟨🟩⬛",
          "🟩⬛⬛🟨⬛",
          "🟩⬛🟨⬛🟩",
          "⬛⬛🟩🟩🟩",
          "⬛🟨⬛🟨🟩",
          "⬛🟩🟨⬛🟩",
          "⬛🟩⬛🟨🟩",
          "⬛🟩⬛🟩🟩",
          "🟩🟩⬛⬛⬛",
          "⬛🟨🟨🟨⬛",
          "🟩⬛🟩⬛⬛",
          "🟩⬛⬛⬛🟨",
          "⬛🟨🟨⬛🟨",
          "🟨🟨⬛⬛⬛",
          "⬛⬛🟨🟩🟩",
          "⬛🟨⬛🟩⬛",
          "⬛🟨⬛🟩🟩",
          "⬛🟩⬛🟨🟨",
          "🟨🟨⬛⬛🟨",
          "🟩⬛⬛🟩⬛",
          "🟨⬛🟩⬛⬛",
          "⬛⬛🟩🟩⬛",
          "⬛⬛🟨🟨🟩",
          "🟨🟨⬛⬛🟩",
          "🟨⬛⬛🟨🟨",
          "🟨🟩⬛⬛🟩",
          "⬛🟨🟩⬛⬛",
          "🟩⬛⬛🟩🟩",
          "🟨⬛🟨⬛🟩",
          "🟩🟨⬛⬛🟩",
          "🟩🟨🟨⬛⬛",
          "🟨⬛🟨⬛🟨",
          "🟨⬛⬛🟨🟩",
          "🟩🟩⬛⬛🟩",
          "⬛⬛🟩🟨🟩",
          "⬛🟩⬛🟩🟨",
          "⬛🟩🟨⬛🟨",
          "🟩⬛🟩⬛🟩",
          "🟨⬛🟨🟨⬛",
          "⬛🟩🟨🟨⬛",
          "🟩⬛🟨🟨⬛",
          "🟩🟩⬛🟨⬛",
          "⬛🟩🟩⬛🟨",
          "🟨🟨🟨⬛⬛",
          "🟨🟨⬛🟨⬛",
          "🟨⬛⬛🟩⬛",
          "⬛🟨🟩⬛🟩",
          "🟩🟩⬛⬛🟨",
          "🟨🟩⬛🟨⬛",
          "🟨🟩🟨⬛⬛",
          "🟩🟨⬛🟨⬛",
          "🟩⬛⬛🟨🟨",
          "🟨⬛⬛🟩🟩",
          "🟩🟨⬛⬛🟨",
          "🟨🟩⬛⬛🟨",
          "🟩⬛⬛🟨🟩",
          "⬛🟨🟨🟩⬛",
          "⬛⬛🟩🟨🟨",
          "⬛🟨🟩🟨⬛",
          "🟩⬛⬛🟩🟨",
          "⬛🟩🟩🟨⬛",
          "🟩🟨🟨⬛🟩",
          "🟨⬛🟩🟨⬛",
          "🟨🟩🟩⬛⬛",
          "⬛🟨⬛🟩🟨",
          "🟩🟩🟩⬛⬛",
          "🟨🟨🟨⬛🟨",
          "⬛🟨🟨🟨🟨",
          "🟨🟨⬛🟨🟨",
          "🟩🟨⬛🟩⬛",
          "⬛🟨🟩⬛🟨",
          "⬛🟨🟨🟩🟩",
          "⬛⬛🟩🟩🟨",
          "🟩⬛🟨🟩🟩",
          "🟩⬛🟨⬛🟨",
          "🟩🟩🟨⬛⬛",
          "⬛⬛🟨🟩🟨",
          "⬛🟨🟩🟨🟩",
          "🟨⬛⬛🟩🟨",
          "🟩🟨🟨🟨⬛",
          "🟨⬛🟩⬛🟨",
          "🟩🟩🟩🟩⬛",
          "🟨🟨⬛🟩🟨",
          "🟩🟩🟩⬛🟩",
          "⬛🟨🟨🟨🟩",
          "🟩⬛🟩🟩🟩",
          "🟨🟨🟨⬛🟩",
          "🟩⬛🟨🟩⬛",
          "🟩🟩⬛🟩🟩",
          "🟨🟩🟨⬛🟩",
          "🟩🟩⬛🟩⬛",
          "🟩🟩⬛🟨🟩",
          "⬛🟩🟨🟩🟩",
          "🟩🟩🟨⬛🟩",
          "🟩🟩🟩🟨⬛",
          "🟩🟩⬛🟨🟨",
          "🟨⬛🟩🟨🟩",
          "🟩🟨⬛🟩🟩",
          "🟩🟨⬛🟨🟨",
          "🟩⬛🟨🟨🟨",
          "⬛🟨🟩🟨🟨",
          "⬛🟩🟨🟨🟩",
          "⬛🟩🟨🟩🟨",
          "🟨🟩🟩🟨⬛",
          "🟨🟩🟩⬛🟨",
          "🟨🟩⬛🟩🟩",
          "🟨🟩⬛🟨🟩",
          "⬛🟩🟩🟨🟨",
          "⬛🟩🟩🟨🟩",
          "🟨🟨⬛🟩🟩",
          "🟨🟨⬛🟩⬛",
          "🟨🟨⬛🟨🟩",
          "🟩🟩🟩🟩🟩"
         ],
         "xaxis": "x",
         "y": [
          2457,
          1680,
          785,
          766,
          686,
          378,
          320,
          306,
          303,
          301,
          292,
          285,
          275,
          244,
          232,
          226,
          194,
          183,
          169,
          144,
          134,
          133,
          125,
          109,
          97,
          93,
          90,
          89,
          82,
          75,
          70,
          63,
          59,
          52,
          48,
          48,
          46,
          44,
          44,
          42,
          39,
          38,
          36,
          35,
          33,
          30,
          30,
          30,
          30,
          29,
          29,
          27,
          26,
          25,
          25,
          25,
          25,
          24,
          24,
          22,
          22,
          21,
          20,
          20,
          20,
          20,
          18,
          16,
          16,
          15,
          15,
          14,
          14,
          14,
          13,
          13,
          13,
          13,
          13,
          12,
          12,
          12,
          12,
          11,
          10,
          10,
          9,
          9,
          9,
          8,
          8,
          8,
          8,
          7,
          7,
          7,
          6,
          6,
          6,
          6,
          5,
          5,
          5,
          4,
          4,
          4,
          4,
          4,
          4,
          4,
          4,
          4,
          4,
          3,
          3,
          3,
          3,
          3,
          3,
          3,
          2,
          2,
          2,
          2,
          2,
          2,
          2,
          2,
          2,
          2,
          2,
          2,
          2,
          2,
          2,
          2,
          1,
          1,
          1,
          1,
          1,
          1,
          1,
          1,
          1,
          1,
          1,
          1,
          1,
          1,
          1,
          1,
          1,
          1,
          1,
          1
         ],
         "yaxis": "y"
        }
       ],
       "layout": {
        "autosize": true,
        "barmode": "relative",
        "height": 1000,
        "hoverlabel": {
         "bgcolor": "white"
        },
        "hovermode": "x",
        "legend": {
         "tracegroupgap": 0
        },
        "template": {
         "data": {
          "bar": [
           {
            "error_x": {
             "color": "#2a3f5f"
            },
            "error_y": {
             "color": "#2a3f5f"
            },
            "marker": {
             "line": {
              "color": "#E5ECF6",
              "width": 0.5
             },
             "pattern": {
              "fillmode": "overlay",
              "size": 10,
              "solidity": 0.2
             }
            },
            "type": "bar"
           }
          ],
          "barpolar": [
           {
            "marker": {
             "line": {
              "color": "#E5ECF6",
              "width": 0.5
             },
             "pattern": {
              "fillmode": "overlay",
              "size": 10,
              "solidity": 0.2
             }
            },
            "type": "barpolar"
           }
          ],
          "carpet": [
           {
            "aaxis": {
             "endlinecolor": "#2a3f5f",
             "gridcolor": "white",
             "linecolor": "white",
             "minorgridcolor": "white",
             "startlinecolor": "#2a3f5f"
            },
            "baxis": {
             "endlinecolor": "#2a3f5f",
             "gridcolor": "white",
             "linecolor": "white",
             "minorgridcolor": "white",
             "startlinecolor": "#2a3f5f"
            },
            "type": "carpet"
           }
          ],
          "choropleth": [
           {
            "colorbar": {
             "outlinewidth": 0,
             "ticks": ""
            },
            "type": "choropleth"
           }
          ],
          "contour": [
           {
            "colorbar": {
             "outlinewidth": 0,
             "ticks": ""
            },
            "colorscale": [
             [
              0,
              "#0d0887"
             ],
             [
              0.1111111111111111,
              "#46039f"
             ],
             [
              0.2222222222222222,
              "#7201a8"
             ],
             [
              0.3333333333333333,
              "#9c179e"
             ],
             [
              0.4444444444444444,
              "#bd3786"
             ],
             [
              0.5555555555555556,
              "#d8576b"
             ],
             [
              0.6666666666666666,
              "#ed7953"
             ],
             [
              0.7777777777777778,
              "#fb9f3a"
             ],
             [
              0.8888888888888888,
              "#fdca26"
             ],
             [
              1,
              "#f0f921"
             ]
            ],
            "type": "contour"
           }
          ],
          "contourcarpet": [
           {
            "colorbar": {
             "outlinewidth": 0,
             "ticks": ""
            },
            "type": "contourcarpet"
           }
          ],
          "heatmap": [
           {
            "colorbar": {
             "outlinewidth": 0,
             "ticks": ""
            },
            "colorscale": [
             [
              0,
              "#0d0887"
             ],
             [
              0.1111111111111111,
              "#46039f"
             ],
             [
              0.2222222222222222,
              "#7201a8"
             ],
             [
              0.3333333333333333,
              "#9c179e"
             ],
             [
              0.4444444444444444,
              "#bd3786"
             ],
             [
              0.5555555555555556,
              "#d8576b"
             ],
             [
              0.6666666666666666,
              "#ed7953"
             ],
             [
              0.7777777777777778,
              "#fb9f3a"
             ],
             [
              0.8888888888888888,
              "#fdca26"
             ],
             [
              1,
              "#f0f921"
             ]
            ],
            "type": "heatmap"
           }
          ],
          "heatmapgl": [
           {
            "colorbar": {
             "outlinewidth": 0,
             "ticks": ""
            },
            "colorscale": [
             [
              0,
              "#0d0887"
             ],
             [
              0.1111111111111111,
              "#46039f"
             ],
             [
              0.2222222222222222,
              "#7201a8"
             ],
             [
              0.3333333333333333,
              "#9c179e"
             ],
             [
              0.4444444444444444,
              "#bd3786"
             ],
             [
              0.5555555555555556,
              "#d8576b"
             ],
             [
              0.6666666666666666,
              "#ed7953"
             ],
             [
              0.7777777777777778,
              "#fb9f3a"
             ],
             [
              0.8888888888888888,
              "#fdca26"
             ],
             [
              1,
              "#f0f921"
             ]
            ],
            "type": "heatmapgl"
           }
          ],
          "histogram": [
           {
            "marker": {
             "pattern": {
              "fillmode": "overlay",
              "size": 10,
              "solidity": 0.2
             }
            },
            "type": "histogram"
           }
          ],
          "histogram2d": [
           {
            "colorbar": {
             "outlinewidth": 0,
             "ticks": ""
            },
            "colorscale": [
             [
              0,
              "#0d0887"
             ],
             [
              0.1111111111111111,
              "#46039f"
             ],
             [
              0.2222222222222222,
              "#7201a8"
             ],
             [
              0.3333333333333333,
              "#9c179e"
             ],
             [
              0.4444444444444444,
              "#bd3786"
             ],
             [
              0.5555555555555556,
              "#d8576b"
             ],
             [
              0.6666666666666666,
              "#ed7953"
             ],
             [
              0.7777777777777778,
              "#fb9f3a"
             ],
             [
              0.8888888888888888,
              "#fdca26"
             ],
             [
              1,
              "#f0f921"
             ]
            ],
            "type": "histogram2d"
           }
          ],
          "histogram2dcontour": [
           {
            "colorbar": {
             "outlinewidth": 0,
             "ticks": ""
            },
            "colorscale": [
             [
              0,
              "#0d0887"
             ],
             [
              0.1111111111111111,
              "#46039f"
             ],
             [
              0.2222222222222222,
              "#7201a8"
             ],
             [
              0.3333333333333333,
              "#9c179e"
             ],
             [
              0.4444444444444444,
              "#bd3786"
             ],
             [
              0.5555555555555556,
              "#d8576b"
             ],
             [
              0.6666666666666666,
              "#ed7953"
             ],
             [
              0.7777777777777778,
              "#fb9f3a"
             ],
             [
              0.8888888888888888,
              "#fdca26"
             ],
             [
              1,
              "#f0f921"
             ]
            ],
            "type": "histogram2dcontour"
           }
          ],
          "mesh3d": [
           {
            "colorbar": {
             "outlinewidth": 0,
             "ticks": ""
            },
            "type": "mesh3d"
           }
          ],
          "parcoords": [
           {
            "line": {
             "colorbar": {
              "outlinewidth": 0,
              "ticks": ""
             }
            },
            "type": "parcoords"
           }
          ],
          "pie": [
           {
            "automargin": true,
            "type": "pie"
           }
          ],
          "scatter": [
           {
            "marker": {
             "colorbar": {
              "outlinewidth": 0,
              "ticks": ""
             }
            },
            "type": "scatter"
           }
          ],
          "scatter3d": [
           {
            "line": {
             "colorbar": {
              "outlinewidth": 0,
              "ticks": ""
             }
            },
            "marker": {
             "colorbar": {
              "outlinewidth": 0,
              "ticks": ""
             }
            },
            "type": "scatter3d"
           }
          ],
          "scattercarpet": [
           {
            "marker": {
             "colorbar": {
              "outlinewidth": 0,
              "ticks": ""
             }
            },
            "type": "scattercarpet"
           }
          ],
          "scattergeo": [
           {
            "marker": {
             "colorbar": {
              "outlinewidth": 0,
              "ticks": ""
             }
            },
            "type": "scattergeo"
           }
          ],
          "scattergl": [
           {
            "marker": {
             "colorbar": {
              "outlinewidth": 0,
              "ticks": ""
             }
            },
            "type": "scattergl"
           }
          ],
          "scattermapbox": [
           {
            "marker": {
             "colorbar": {
              "outlinewidth": 0,
              "ticks": ""
             }
            },
            "type": "scattermapbox"
           }
          ],
          "scatterpolar": [
           {
            "marker": {
             "colorbar": {
              "outlinewidth": 0,
              "ticks": ""
             }
            },
            "type": "scatterpolar"
           }
          ],
          "scatterpolargl": [
           {
            "marker": {
             "colorbar": {
              "outlinewidth": 0,
              "ticks": ""
             }
            },
            "type": "scatterpolargl"
           }
          ],
          "scatterternary": [
           {
            "marker": {
             "colorbar": {
              "outlinewidth": 0,
              "ticks": ""
             }
            },
            "type": "scatterternary"
           }
          ],
          "surface": [
           {
            "colorbar": {
             "outlinewidth": 0,
             "ticks": ""
            },
            "colorscale": [
             [
              0,
              "#0d0887"
             ],
             [
              0.1111111111111111,
              "#46039f"
             ],
             [
              0.2222222222222222,
              "#7201a8"
             ],
             [
              0.3333333333333333,
              "#9c179e"
             ],
             [
              0.4444444444444444,
              "#bd3786"
             ],
             [
              0.5555555555555556,
              "#d8576b"
             ],
             [
              0.6666666666666666,
              "#ed7953"
             ],
             [
              0.7777777777777778,
              "#fb9f3a"
             ],
             [
              0.8888888888888888,
              "#fdca26"
             ],
             [
              1,
              "#f0f921"
             ]
            ],
            "type": "surface"
           }
          ],
          "table": [
           {
            "cells": {
             "fill": {
              "color": "#EBF0F8"
             },
             "line": {
              "color": "white"
             }
            },
            "header": {
             "fill": {
              "color": "#C8D4E3"
             },
             "line": {
              "color": "white"
             }
            },
            "type": "table"
           }
          ]
         },
         "layout": {
          "annotationdefaults": {
           "arrowcolor": "#2a3f5f",
           "arrowhead": 0,
           "arrowwidth": 1
          },
          "autotypenumbers": "strict",
          "coloraxis": {
           "colorbar": {
            "outlinewidth": 0,
            "ticks": ""
           }
          },
          "colorscale": {
           "diverging": [
            [
             0,
             "#8e0152"
            ],
            [
             0.1,
             "#c51b7d"
            ],
            [
             0.2,
             "#de77ae"
            ],
            [
             0.3,
             "#f1b6da"
            ],
            [
             0.4,
             "#fde0ef"
            ],
            [
             0.5,
             "#f7f7f7"
            ],
            [
             0.6,
             "#e6f5d0"
            ],
            [
             0.7,
             "#b8e186"
            ],
            [
             0.8,
             "#7fbc41"
            ],
            [
             0.9,
             "#4d9221"
            ],
            [
             1,
             "#276419"
            ]
           ],
           "sequential": [
            [
             0,
             "#0d0887"
            ],
            [
             0.1111111111111111,
             "#46039f"
            ],
            [
             0.2222222222222222,
             "#7201a8"
            ],
            [
             0.3333333333333333,
             "#9c179e"
            ],
            [
             0.4444444444444444,
             "#bd3786"
            ],
            [
             0.5555555555555556,
             "#d8576b"
            ],
            [
             0.6666666666666666,
             "#ed7953"
            ],
            [
             0.7777777777777778,
             "#fb9f3a"
            ],
            [
             0.8888888888888888,
             "#fdca26"
            ],
            [
             1,
             "#f0f921"
            ]
           ],
           "sequentialminus": [
            [
             0,
             "#0d0887"
            ],
            [
             0.1111111111111111,
             "#46039f"
            ],
            [
             0.2222222222222222,
             "#7201a8"
            ],
            [
             0.3333333333333333,
             "#9c179e"
            ],
            [
             0.4444444444444444,
             "#bd3786"
            ],
            [
             0.5555555555555556,
             "#d8576b"
            ],
            [
             0.6666666666666666,
             "#ed7953"
            ],
            [
             0.7777777777777778,
             "#fb9f3a"
            ],
            [
             0.8888888888888888,
             "#fdca26"
            ],
            [
             1,
             "#f0f921"
            ]
           ]
          },
          "colorway": [
           "#636efa",
           "#EF553B",
           "#00cc96",
           "#ab63fa",
           "#FFA15A",
           "#19d3f3",
           "#FF6692",
           "#B6E880",
           "#FF97FF",
           "#FECB52"
          ],
          "font": {
           "color": "#2a3f5f"
          },
          "geo": {
           "bgcolor": "white",
           "lakecolor": "white",
           "landcolor": "#E5ECF6",
           "showlakes": true,
           "showland": true,
           "subunitcolor": "white"
          },
          "hoverlabel": {
           "align": "left"
          },
          "hovermode": "closest",
          "mapbox": {
           "style": "light"
          },
          "paper_bgcolor": "white",
          "plot_bgcolor": "#E5ECF6",
          "polar": {
           "angularaxis": {
            "gridcolor": "white",
            "linecolor": "white",
            "ticks": ""
           },
           "bgcolor": "#E5ECF6",
           "radialaxis": {
            "gridcolor": "white",
            "linecolor": "white",
            "ticks": ""
           }
          },
          "scene": {
           "xaxis": {
            "backgroundcolor": "#E5ECF6",
            "gridcolor": "white",
            "gridwidth": 2,
            "linecolor": "white",
            "showbackground": true,
            "ticks": "",
            "zerolinecolor": "white"
           },
           "yaxis": {
            "backgroundcolor": "#E5ECF6",
            "gridcolor": "white",
            "gridwidth": 2,
            "linecolor": "white",
            "showbackground": true,
            "ticks": "",
            "zerolinecolor": "white"
           },
           "zaxis": {
            "backgroundcolor": "#E5ECF6",
            "gridcolor": "white",
            "gridwidth": 2,
            "linecolor": "white",
            "showbackground": true,
            "ticks": "",
            "zerolinecolor": "white"
           }
          },
          "shapedefaults": {
           "line": {
            "color": "#2a3f5f"
           }
          },
          "ternary": {
           "aaxis": {
            "gridcolor": "white",
            "linecolor": "white",
            "ticks": ""
           },
           "baxis": {
            "gridcolor": "white",
            "linecolor": "white",
            "ticks": ""
           },
           "bgcolor": "#E5ECF6",
           "caxis": {
            "gridcolor": "white",
            "linecolor": "white",
            "ticks": ""
           }
          },
          "title": {
           "x": 0.05
          },
          "xaxis": {
           "automargin": true,
           "gridcolor": "white",
           "linecolor": "white",
           "ticks": "",
           "title": {
            "standoff": 15
           },
           "zerolinecolor": "white",
           "zerolinewidth": 2
          },
          "yaxis": {
           "automargin": true,
           "gridcolor": "white",
           "linecolor": "white",
           "ticks": "",
           "title": {
            "standoff": 15
           },
           "zerolinecolor": "white",
           "zerolinewidth": 2
          }
         }
        },
        "title": {
         "text": "Words left distribution for word: \"CULTS\""
        },
        "xaxis": {
         "anchor": "y",
         "domain": [
          0,
          1
         ],
         "showticklabels": false,
         "tickangle": 45,
         "tickfont": {
          "size": 10
         },
         "title": {
          "font": {
           "size": 16
          },
          "standoff": 25,
          "text": "Pattern"
         }
        },
        "yaxis": {
         "anchor": "x",
         "domain": [
          0,
          1
         ],
         "showgrid": false,
         "title": {
          "font": {
           "size": 16
          },
          "text": "Words left"
         },
         "zeroline": false
        }
       }
      },
      "text/html": [
       "<div>                            <div id=\"6a3a6289-f198-4626-b452-484df74bd109\" class=\"plotly-graph-div\" style=\"height:1000px; width:100%;\"></div>            <script type=\"text/javascript\">                require([\"plotly\"], function(Plotly) {                    window.PLOTLYENV=window.PLOTLYENV || {};                                    if (document.getElementById(\"6a3a6289-f198-4626-b452-484df74bd109\")) {                    Plotly.newPlot(                        \"6a3a6289-f198-4626-b452-484df74bd109\",                        [{\"alignmentgroup\":\"True\",\"hovertemplate\":\"pattern=%{x}<br>value=%{text}<extra></extra>\",\"legendgroup\":\"\",\"marker\":{\"color\":\"rgb(37,106,236)\",\"pattern\":{\"shape\":\"\"},\"line\":{\"width\":1.5}},\"name\":\"\",\"offsetgroup\":\"\",\"orientation\":\"v\",\"showlegend\":false,\"text\":[2457.0,1680.0,785.0,766.0,686.0,378.0,320.0,306.0,303.0,301.0,292.0,285.0,275.0,244.0,232.0,226.0,194.0,183.0,169.0,144.0,134.0,133.0,125.0,109.0,97.0,93.0,90.0,89.0,82.0,75.0,70.0,63.0,59.0,52.0,48.0,48.0,46.0,44.0,44.0,42.0,39.0,38.0,36.0,35.0,33.0,30.0,30.0,30.0,30.0,29.0,29.0,27.0,26.0,25.0,25.0,25.0,25.0,24.0,24.0,22.0,22.0,21.0,20.0,20.0,20.0,20.0,18.0,16.0,16.0,15.0,15.0,14.0,14.0,14.0,13.0,13.0,13.0,13.0,13.0,12.0,12.0,12.0,12.0,11.0,10.0,10.0,9.0,9.0,9.0,8.0,8.0,8.0,8.0,7.0,7.0,7.0,6.0,6.0,6.0,6.0,5.0,5.0,5.0,4.0,4.0,4.0,4.0,4.0,4.0,4.0,4.0,4.0,4.0,3.0,3.0,3.0,3.0,3.0,3.0,3.0,2.0,2.0,2.0,2.0,2.0,2.0,2.0,2.0,2.0,2.0,2.0,2.0,2.0,2.0,2.0,2.0,1.0,1.0,1.0,1.0,1.0,1.0,1.0,1.0,1.0,1.0,1.0,1.0,1.0,1.0,1.0,1.0,1.0,1.0,1.0,1.0],\"textposition\":\"auto\",\"x\":[\"\\u2b1b\\u2b1b\\u2b1b\\u2b1b\\u2b1b\",\"\\u2b1b\\u2b1b\\u2b1b\\u2b1b\\ud83d\\udfe9\",\"\\u2b1b\\u2b1b\\ud83d\\udfe8\\u2b1b\\u2b1b\",\"\\u2b1b\\u2b1b\\u2b1b\\u2b1b\\ud83d\\udfe8\",\"\\u2b1b\\u2b1b\\u2b1b\\ud83d\\udfe8\\u2b1b\",\"\\u2b1b\\u2b1b\\ud83d\\udfe8\\u2b1b\\ud83d\\udfe9\",\"\\ud83d\\udfe9\\u2b1b\\u2b1b\\u2b1b\\u2b1b\",\"\\ud83d\\udfe8\\u2b1b\\u2b1b\\u2b1b\\u2b1b\",\"\\u2b1b\\ud83d\\udfe8\\u2b1b\\u2b1b\\u2b1b\",\"\\u2b1b\\u2b1b\\u2b1b\\ud83d\\udfe8\\ud83d\\udfe8\",\"\\u2b1b\\ud83d\\udfe9\\u2b1b\\u2b1b\\u2b1b\",\"\\u2b1b\\u2b1b\\u2b1b\\ud83d\\udfe8\\ud83d\\udfe9\",\"\\u2b1b\\u2b1b\\ud83d\\udfe9\\u2b1b\\u2b1b\",\"\\u2b1b\\u2b1b\\u2b1b\\ud83d\\udfe9\\ud83d\\udfe9\",\"\\u2b1b\\u2b1b\\u2b1b\\ud83d\\udfe9\\u2b1b\",\"\\u2b1b\\ud83d\\udfe9\\u2b1b\\u2b1b\\ud83d\\udfe9\",\"\\u2b1b\\u2b1b\\ud83d\\udfe9\\u2b1b\\ud83d\\udfe9\",\"\\u2b1b\\u2b1b\\ud83d\\udfe8\\u2b1b\\ud83d\\udfe8\",\"\\u2b1b\\ud83d\\udfe8\\u2b1b\\u2b1b\\ud83d\\udfe9\",\"\\ud83d\\udfe9\\u2b1b\\u2b1b\\u2b1b\\ud83d\\udfe9\",\"\\u2b1b\\u2b1b\\ud83d\\udfe8\\ud83d\\udfe8\\u2b1b\",\"\\u2b1b\\ud83d\\udfe8\\ud83d\\udfe8\\u2b1b\\u2b1b\",\"\\ud83d\\udfe8\\u2b1b\\u2b1b\\u2b1b\\ud83d\\udfe9\",\"\\ud83d\\udfe8\\u2b1b\\u2b1b\\ud83d\\udfe8\\u2b1b\",\"\\u2b1b\\ud83d\\udfe8\\u2b1b\\u2b1b\\ud83d\\udfe8\",\"\\ud83d\\udfe8\\u2b1b\\u2b1b\\u2b1b\\ud83d\\udfe8\",\"\\ud83d\\udfe9\\u2b1b\\ud83d\\udfe8\\u2b1b\\u2b1b\",\"\\u2b1b\\ud83d\\udfe8\\u2b1b\\ud83d\\udfe8\\u2b1b\",\"\\u2b1b\\u2b1b\\u2b1b\\ud83d\\udfe9\\ud83d\\udfe8\",\"\\u2b1b\\ud83d\\udfe9\\u2b1b\\u2b1b\\ud83d\\udfe8\",\"\\u2b1b\\ud83d\\udfe9\\ud83d\\udfe8\\u2b1b\\u2b1b\",\"\\u2b1b\\ud83d\\udfe9\\u2b1b\\ud83d\\udfe8\\u2b1b\",\"\\ud83d\\udfe8\\u2b1b\\ud83d\\udfe8\\u2b1b\\u2b1b\",\"\\u2b1b\\u2b1b\\ud83d\\udfe9\\u2b1b\\ud83d\\udfe8\",\"\\u2b1b\\ud83d\\udfe8\\u2b1b\\ud83d\\udfe8\\ud83d\\udfe8\",\"\\ud83d\\udfe8\\ud83d\\udfe9\\u2b1b\\u2b1b\\u2b1b\",\"\\u2b1b\\u2b1b\\ud83d\\udfe8\\ud83d\\udfe8\\ud83d\\udfe8\",\"\\u2b1b\\u2b1b\\ud83d\\udfe9\\ud83d\\udfe8\\u2b1b\",\"\\u2b1b\\ud83d\\udfe8\\ud83d\\udfe8\\u2b1b\\ud83d\\udfe9\",\"\\u2b1b\\ud83d\\udfe9\\ud83d\\udfe9\\u2b1b\\u2b1b\",\"\\u2b1b\\ud83d\\udfe9\\u2b1b\\ud83d\\udfe9\\u2b1b\",\"\\u2b1b\\ud83d\\udfe9\\ud83d\\udfe9\\u2b1b\\ud83d\\udfe9\",\"\\ud83d\\udfe9\\ud83d\\udfe8\\u2b1b\\u2b1b\\u2b1b\",\"\\u2b1b\\u2b1b\\ud83d\\udfe8\\ud83d\\udfe9\\u2b1b\",\"\\ud83d\\udfe9\\u2b1b\\u2b1b\\ud83d\\udfe8\\u2b1b\",\"\\ud83d\\udfe9\\u2b1b\\ud83d\\udfe8\\u2b1b\\ud83d\\udfe9\",\"\\u2b1b\\u2b1b\\ud83d\\udfe9\\ud83d\\udfe9\\ud83d\\udfe9\",\"\\u2b1b\\ud83d\\udfe8\\u2b1b\\ud83d\\udfe8\\ud83d\\udfe9\",\"\\u2b1b\\ud83d\\udfe9\\ud83d\\udfe8\\u2b1b\\ud83d\\udfe9\",\"\\u2b1b\\ud83d\\udfe9\\u2b1b\\ud83d\\udfe8\\ud83d\\udfe9\",\"\\u2b1b\\ud83d\\udfe9\\u2b1b\\ud83d\\udfe9\\ud83d\\udfe9\",\"\\ud83d\\udfe9\\ud83d\\udfe9\\u2b1b\\u2b1b\\u2b1b\",\"\\u2b1b\\ud83d\\udfe8\\ud83d\\udfe8\\ud83d\\udfe8\\u2b1b\",\"\\ud83d\\udfe9\\u2b1b\\ud83d\\udfe9\\u2b1b\\u2b1b\",\"\\ud83d\\udfe9\\u2b1b\\u2b1b\\u2b1b\\ud83d\\udfe8\",\"\\u2b1b\\ud83d\\udfe8\\ud83d\\udfe8\\u2b1b\\ud83d\\udfe8\",\"\\ud83d\\udfe8\\ud83d\\udfe8\\u2b1b\\u2b1b\\u2b1b\",\"\\u2b1b\\u2b1b\\ud83d\\udfe8\\ud83d\\udfe9\\ud83d\\udfe9\",\"\\u2b1b\\ud83d\\udfe8\\u2b1b\\ud83d\\udfe9\\u2b1b\",\"\\u2b1b\\ud83d\\udfe8\\u2b1b\\ud83d\\udfe9\\ud83d\\udfe9\",\"\\u2b1b\\ud83d\\udfe9\\u2b1b\\ud83d\\udfe8\\ud83d\\udfe8\",\"\\ud83d\\udfe8\\ud83d\\udfe8\\u2b1b\\u2b1b\\ud83d\\udfe8\",\"\\ud83d\\udfe9\\u2b1b\\u2b1b\\ud83d\\udfe9\\u2b1b\",\"\\ud83d\\udfe8\\u2b1b\\ud83d\\udfe9\\u2b1b\\u2b1b\",\"\\u2b1b\\u2b1b\\ud83d\\udfe9\\ud83d\\udfe9\\u2b1b\",\"\\u2b1b\\u2b1b\\ud83d\\udfe8\\ud83d\\udfe8\\ud83d\\udfe9\",\"\\ud83d\\udfe8\\ud83d\\udfe8\\u2b1b\\u2b1b\\ud83d\\udfe9\",\"\\ud83d\\udfe8\\u2b1b\\u2b1b\\ud83d\\udfe8\\ud83d\\udfe8\",\"\\ud83d\\udfe8\\ud83d\\udfe9\\u2b1b\\u2b1b\\ud83d\\udfe9\",\"\\u2b1b\\ud83d\\udfe8\\ud83d\\udfe9\\u2b1b\\u2b1b\",\"\\ud83d\\udfe9\\u2b1b\\u2b1b\\ud83d\\udfe9\\ud83d\\udfe9\",\"\\ud83d\\udfe8\\u2b1b\\ud83d\\udfe8\\u2b1b\\ud83d\\udfe9\",\"\\ud83d\\udfe9\\ud83d\\udfe8\\u2b1b\\u2b1b\\ud83d\\udfe9\",\"\\ud83d\\udfe9\\ud83d\\udfe8\\ud83d\\udfe8\\u2b1b\\u2b1b\",\"\\ud83d\\udfe8\\u2b1b\\ud83d\\udfe8\\u2b1b\\ud83d\\udfe8\",\"\\ud83d\\udfe8\\u2b1b\\u2b1b\\ud83d\\udfe8\\ud83d\\udfe9\",\"\\ud83d\\udfe9\\ud83d\\udfe9\\u2b1b\\u2b1b\\ud83d\\udfe9\",\"\\u2b1b\\u2b1b\\ud83d\\udfe9\\ud83d\\udfe8\\ud83d\\udfe9\",\"\\u2b1b\\ud83d\\udfe9\\u2b1b\\ud83d\\udfe9\\ud83d\\udfe8\",\"\\u2b1b\\ud83d\\udfe9\\ud83d\\udfe8\\u2b1b\\ud83d\\udfe8\",\"\\ud83d\\udfe9\\u2b1b\\ud83d\\udfe9\\u2b1b\\ud83d\\udfe9\",\"\\ud83d\\udfe8\\u2b1b\\ud83d\\udfe8\\ud83d\\udfe8\\u2b1b\",\"\\u2b1b\\ud83d\\udfe9\\ud83d\\udfe8\\ud83d\\udfe8\\u2b1b\",\"\\ud83d\\udfe9\\u2b1b\\ud83d\\udfe8\\ud83d\\udfe8\\u2b1b\",\"\\ud83d\\udfe9\\ud83d\\udfe9\\u2b1b\\ud83d\\udfe8\\u2b1b\",\"\\u2b1b\\ud83d\\udfe9\\ud83d\\udfe9\\u2b1b\\ud83d\\udfe8\",\"\\ud83d\\udfe8\\ud83d\\udfe8\\ud83d\\udfe8\\u2b1b\\u2b1b\",\"\\ud83d\\udfe8\\ud83d\\udfe8\\u2b1b\\ud83d\\udfe8\\u2b1b\",\"\\ud83d\\udfe8\\u2b1b\\u2b1b\\ud83d\\udfe9\\u2b1b\",\"\\u2b1b\\ud83d\\udfe8\\ud83d\\udfe9\\u2b1b\\ud83d\\udfe9\",\"\\ud83d\\udfe9\\ud83d\\udfe9\\u2b1b\\u2b1b\\ud83d\\udfe8\",\"\\ud83d\\udfe8\\ud83d\\udfe9\\u2b1b\\ud83d\\udfe8\\u2b1b\",\"\\ud83d\\udfe8\\ud83d\\udfe9\\ud83d\\udfe8\\u2b1b\\u2b1b\",\"\\ud83d\\udfe9\\ud83d\\udfe8\\u2b1b\\ud83d\\udfe8\\u2b1b\",\"\\ud83d\\udfe9\\u2b1b\\u2b1b\\ud83d\\udfe8\\ud83d\\udfe8\",\"\\ud83d\\udfe8\\u2b1b\\u2b1b\\ud83d\\udfe9\\ud83d\\udfe9\",\"\\ud83d\\udfe9\\ud83d\\udfe8\\u2b1b\\u2b1b\\ud83d\\udfe8\",\"\\ud83d\\udfe8\\ud83d\\udfe9\\u2b1b\\u2b1b\\ud83d\\udfe8\",\"\\ud83d\\udfe9\\u2b1b\\u2b1b\\ud83d\\udfe8\\ud83d\\udfe9\",\"\\u2b1b\\ud83d\\udfe8\\ud83d\\udfe8\\ud83d\\udfe9\\u2b1b\",\"\\u2b1b\\u2b1b\\ud83d\\udfe9\\ud83d\\udfe8\\ud83d\\udfe8\",\"\\u2b1b\\ud83d\\udfe8\\ud83d\\udfe9\\ud83d\\udfe8\\u2b1b\",\"\\ud83d\\udfe9\\u2b1b\\u2b1b\\ud83d\\udfe9\\ud83d\\udfe8\",\"\\u2b1b\\ud83d\\udfe9\\ud83d\\udfe9\\ud83d\\udfe8\\u2b1b\",\"\\ud83d\\udfe9\\ud83d\\udfe8\\ud83d\\udfe8\\u2b1b\\ud83d\\udfe9\",\"\\ud83d\\udfe8\\u2b1b\\ud83d\\udfe9\\ud83d\\udfe8\\u2b1b\",\"\\ud83d\\udfe8\\ud83d\\udfe9\\ud83d\\udfe9\\u2b1b\\u2b1b\",\"\\u2b1b\\ud83d\\udfe8\\u2b1b\\ud83d\\udfe9\\ud83d\\udfe8\",\"\\ud83d\\udfe9\\ud83d\\udfe9\\ud83d\\udfe9\\u2b1b\\u2b1b\",\"\\ud83d\\udfe8\\ud83d\\udfe8\\ud83d\\udfe8\\u2b1b\\ud83d\\udfe8\",\"\\u2b1b\\ud83d\\udfe8\\ud83d\\udfe8\\ud83d\\udfe8\\ud83d\\udfe8\",\"\\ud83d\\udfe8\\ud83d\\udfe8\\u2b1b\\ud83d\\udfe8\\ud83d\\udfe8\",\"\\ud83d\\udfe9\\ud83d\\udfe8\\u2b1b\\ud83d\\udfe9\\u2b1b\",\"\\u2b1b\\ud83d\\udfe8\\ud83d\\udfe9\\u2b1b\\ud83d\\udfe8\",\"\\u2b1b\\ud83d\\udfe8\\ud83d\\udfe8\\ud83d\\udfe9\\ud83d\\udfe9\",\"\\u2b1b\\u2b1b\\ud83d\\udfe9\\ud83d\\udfe9\\ud83d\\udfe8\",\"\\ud83d\\udfe9\\u2b1b\\ud83d\\udfe8\\ud83d\\udfe9\\ud83d\\udfe9\",\"\\ud83d\\udfe9\\u2b1b\\ud83d\\udfe8\\u2b1b\\ud83d\\udfe8\",\"\\ud83d\\udfe9\\ud83d\\udfe9\\ud83d\\udfe8\\u2b1b\\u2b1b\",\"\\u2b1b\\u2b1b\\ud83d\\udfe8\\ud83d\\udfe9\\ud83d\\udfe8\",\"\\u2b1b\\ud83d\\udfe8\\ud83d\\udfe9\\ud83d\\udfe8\\ud83d\\udfe9\",\"\\ud83d\\udfe8\\u2b1b\\u2b1b\\ud83d\\udfe9\\ud83d\\udfe8\",\"\\ud83d\\udfe9\\ud83d\\udfe8\\ud83d\\udfe8\\ud83d\\udfe8\\u2b1b\",\"\\ud83d\\udfe8\\u2b1b\\ud83d\\udfe9\\u2b1b\\ud83d\\udfe8\",\"\\ud83d\\udfe9\\ud83d\\udfe9\\ud83d\\udfe9\\ud83d\\udfe9\\u2b1b\",\"\\ud83d\\udfe8\\ud83d\\udfe8\\u2b1b\\ud83d\\udfe9\\ud83d\\udfe8\",\"\\ud83d\\udfe9\\ud83d\\udfe9\\ud83d\\udfe9\\u2b1b\\ud83d\\udfe9\",\"\\u2b1b\\ud83d\\udfe8\\ud83d\\udfe8\\ud83d\\udfe8\\ud83d\\udfe9\",\"\\ud83d\\udfe9\\u2b1b\\ud83d\\udfe9\\ud83d\\udfe9\\ud83d\\udfe9\",\"\\ud83d\\udfe8\\ud83d\\udfe8\\ud83d\\udfe8\\u2b1b\\ud83d\\udfe9\",\"\\ud83d\\udfe9\\u2b1b\\ud83d\\udfe8\\ud83d\\udfe9\\u2b1b\",\"\\ud83d\\udfe9\\ud83d\\udfe9\\u2b1b\\ud83d\\udfe9\\ud83d\\udfe9\",\"\\ud83d\\udfe8\\ud83d\\udfe9\\ud83d\\udfe8\\u2b1b\\ud83d\\udfe9\",\"\\ud83d\\udfe9\\ud83d\\udfe9\\u2b1b\\ud83d\\udfe9\\u2b1b\",\"\\ud83d\\udfe9\\ud83d\\udfe9\\u2b1b\\ud83d\\udfe8\\ud83d\\udfe9\",\"\\u2b1b\\ud83d\\udfe9\\ud83d\\udfe8\\ud83d\\udfe9\\ud83d\\udfe9\",\"\\ud83d\\udfe9\\ud83d\\udfe9\\ud83d\\udfe8\\u2b1b\\ud83d\\udfe9\",\"\\ud83d\\udfe9\\ud83d\\udfe9\\ud83d\\udfe9\\ud83d\\udfe8\\u2b1b\",\"\\ud83d\\udfe9\\ud83d\\udfe9\\u2b1b\\ud83d\\udfe8\\ud83d\\udfe8\",\"\\ud83d\\udfe8\\u2b1b\\ud83d\\udfe9\\ud83d\\udfe8\\ud83d\\udfe9\",\"\\ud83d\\udfe9\\ud83d\\udfe8\\u2b1b\\ud83d\\udfe9\\ud83d\\udfe9\",\"\\ud83d\\udfe9\\ud83d\\udfe8\\u2b1b\\ud83d\\udfe8\\ud83d\\udfe8\",\"\\ud83d\\udfe9\\u2b1b\\ud83d\\udfe8\\ud83d\\udfe8\\ud83d\\udfe8\",\"\\u2b1b\\ud83d\\udfe8\\ud83d\\udfe9\\ud83d\\udfe8\\ud83d\\udfe8\",\"\\u2b1b\\ud83d\\udfe9\\ud83d\\udfe8\\ud83d\\udfe8\\ud83d\\udfe9\",\"\\u2b1b\\ud83d\\udfe9\\ud83d\\udfe8\\ud83d\\udfe9\\ud83d\\udfe8\",\"\\ud83d\\udfe8\\ud83d\\udfe9\\ud83d\\udfe9\\ud83d\\udfe8\\u2b1b\",\"\\ud83d\\udfe8\\ud83d\\udfe9\\ud83d\\udfe9\\u2b1b\\ud83d\\udfe8\",\"\\ud83d\\udfe8\\ud83d\\udfe9\\u2b1b\\ud83d\\udfe9\\ud83d\\udfe9\",\"\\ud83d\\udfe8\\ud83d\\udfe9\\u2b1b\\ud83d\\udfe8\\ud83d\\udfe9\",\"\\u2b1b\\ud83d\\udfe9\\ud83d\\udfe9\\ud83d\\udfe8\\ud83d\\udfe8\",\"\\u2b1b\\ud83d\\udfe9\\ud83d\\udfe9\\ud83d\\udfe8\\ud83d\\udfe9\",\"\\ud83d\\udfe8\\ud83d\\udfe8\\u2b1b\\ud83d\\udfe9\\ud83d\\udfe9\",\"\\ud83d\\udfe8\\ud83d\\udfe8\\u2b1b\\ud83d\\udfe9\\u2b1b\",\"\\ud83d\\udfe8\\ud83d\\udfe8\\u2b1b\\ud83d\\udfe8\\ud83d\\udfe9\",\"\\ud83d\\udfe9\\ud83d\\udfe9\\ud83d\\udfe9\\ud83d\\udfe9\\ud83d\\udfe9\"],\"xaxis\":\"x\",\"y\":[2457,1680,785,766,686,378,320,306,303,301,292,285,275,244,232,226,194,183,169,144,134,133,125,109,97,93,90,89,82,75,70,63,59,52,48,48,46,44,44,42,39,38,36,35,33,30,30,30,30,29,29,27,26,25,25,25,25,24,24,22,22,21,20,20,20,20,18,16,16,15,15,14,14,14,13,13,13,13,13,12,12,12,12,11,10,10,9,9,9,8,8,8,8,7,7,7,6,6,6,6,5,5,5,4,4,4,4,4,4,4,4,4,4,3,3,3,3,3,3,3,2,2,2,2,2,2,2,2,2,2,2,2,2,2,2,2,1,1,1,1,1,1,1,1,1,1,1,1,1,1,1,1,1,1,1,1],\"yaxis\":\"y\",\"type\":\"bar\"}],                        {\"template\":{\"data\":{\"bar\":[{\"error_x\":{\"color\":\"#2a3f5f\"},\"error_y\":{\"color\":\"#2a3f5f\"},\"marker\":{\"line\":{\"color\":\"#E5ECF6\",\"width\":0.5},\"pattern\":{\"fillmode\":\"overlay\",\"size\":10,\"solidity\":0.2}},\"type\":\"bar\"}],\"barpolar\":[{\"marker\":{\"line\":{\"color\":\"#E5ECF6\",\"width\":0.5},\"pattern\":{\"fillmode\":\"overlay\",\"size\":10,\"solidity\":0.2}},\"type\":\"barpolar\"}],\"carpet\":[{\"aaxis\":{\"endlinecolor\":\"#2a3f5f\",\"gridcolor\":\"white\",\"linecolor\":\"white\",\"minorgridcolor\":\"white\",\"startlinecolor\":\"#2a3f5f\"},\"baxis\":{\"endlinecolor\":\"#2a3f5f\",\"gridcolor\":\"white\",\"linecolor\":\"white\",\"minorgridcolor\":\"white\",\"startlinecolor\":\"#2a3f5f\"},\"type\":\"carpet\"}],\"choropleth\":[{\"colorbar\":{\"outlinewidth\":0,\"ticks\":\"\"},\"type\":\"choropleth\"}],\"contour\":[{\"colorbar\":{\"outlinewidth\":0,\"ticks\":\"\"},\"colorscale\":[[0.0,\"#0d0887\"],[0.1111111111111111,\"#46039f\"],[0.2222222222222222,\"#7201a8\"],[0.3333333333333333,\"#9c179e\"],[0.4444444444444444,\"#bd3786\"],[0.5555555555555556,\"#d8576b\"],[0.6666666666666666,\"#ed7953\"],[0.7777777777777778,\"#fb9f3a\"],[0.8888888888888888,\"#fdca26\"],[1.0,\"#f0f921\"]],\"type\":\"contour\"}],\"contourcarpet\":[{\"colorbar\":{\"outlinewidth\":0,\"ticks\":\"\"},\"type\":\"contourcarpet\"}],\"heatmap\":[{\"colorbar\":{\"outlinewidth\":0,\"ticks\":\"\"},\"colorscale\":[[0.0,\"#0d0887\"],[0.1111111111111111,\"#46039f\"],[0.2222222222222222,\"#7201a8\"],[0.3333333333333333,\"#9c179e\"],[0.4444444444444444,\"#bd3786\"],[0.5555555555555556,\"#d8576b\"],[0.6666666666666666,\"#ed7953\"],[0.7777777777777778,\"#fb9f3a\"],[0.8888888888888888,\"#fdca26\"],[1.0,\"#f0f921\"]],\"type\":\"heatmap\"}],\"heatmapgl\":[{\"colorbar\":{\"outlinewidth\":0,\"ticks\":\"\"},\"colorscale\":[[0.0,\"#0d0887\"],[0.1111111111111111,\"#46039f\"],[0.2222222222222222,\"#7201a8\"],[0.3333333333333333,\"#9c179e\"],[0.4444444444444444,\"#bd3786\"],[0.5555555555555556,\"#d8576b\"],[0.6666666666666666,\"#ed7953\"],[0.7777777777777778,\"#fb9f3a\"],[0.8888888888888888,\"#fdca26\"],[1.0,\"#f0f921\"]],\"type\":\"heatmapgl\"}],\"histogram\":[{\"marker\":{\"pattern\":{\"fillmode\":\"overlay\",\"size\":10,\"solidity\":0.2}},\"type\":\"histogram\"}],\"histogram2d\":[{\"colorbar\":{\"outlinewidth\":0,\"ticks\":\"\"},\"colorscale\":[[0.0,\"#0d0887\"],[0.1111111111111111,\"#46039f\"],[0.2222222222222222,\"#7201a8\"],[0.3333333333333333,\"#9c179e\"],[0.4444444444444444,\"#bd3786\"],[0.5555555555555556,\"#d8576b\"],[0.6666666666666666,\"#ed7953\"],[0.7777777777777778,\"#fb9f3a\"],[0.8888888888888888,\"#fdca26\"],[1.0,\"#f0f921\"]],\"type\":\"histogram2d\"}],\"histogram2dcontour\":[{\"colorbar\":{\"outlinewidth\":0,\"ticks\":\"\"},\"colorscale\":[[0.0,\"#0d0887\"],[0.1111111111111111,\"#46039f\"],[0.2222222222222222,\"#7201a8\"],[0.3333333333333333,\"#9c179e\"],[0.4444444444444444,\"#bd3786\"],[0.5555555555555556,\"#d8576b\"],[0.6666666666666666,\"#ed7953\"],[0.7777777777777778,\"#fb9f3a\"],[0.8888888888888888,\"#fdca26\"],[1.0,\"#f0f921\"]],\"type\":\"histogram2dcontour\"}],\"mesh3d\":[{\"colorbar\":{\"outlinewidth\":0,\"ticks\":\"\"},\"type\":\"mesh3d\"}],\"parcoords\":[{\"line\":{\"colorbar\":{\"outlinewidth\":0,\"ticks\":\"\"}},\"type\":\"parcoords\"}],\"pie\":[{\"automargin\":true,\"type\":\"pie\"}],\"scatter\":[{\"marker\":{\"colorbar\":{\"outlinewidth\":0,\"ticks\":\"\"}},\"type\":\"scatter\"}],\"scatter3d\":[{\"line\":{\"colorbar\":{\"outlinewidth\":0,\"ticks\":\"\"}},\"marker\":{\"colorbar\":{\"outlinewidth\":0,\"ticks\":\"\"}},\"type\":\"scatter3d\"}],\"scattercarpet\":[{\"marker\":{\"colorbar\":{\"outlinewidth\":0,\"ticks\":\"\"}},\"type\":\"scattercarpet\"}],\"scattergeo\":[{\"marker\":{\"colorbar\":{\"outlinewidth\":0,\"ticks\":\"\"}},\"type\":\"scattergeo\"}],\"scattergl\":[{\"marker\":{\"colorbar\":{\"outlinewidth\":0,\"ticks\":\"\"}},\"type\":\"scattergl\"}],\"scattermapbox\":[{\"marker\":{\"colorbar\":{\"outlinewidth\":0,\"ticks\":\"\"}},\"type\":\"scattermapbox\"}],\"scatterpolar\":[{\"marker\":{\"colorbar\":{\"outlinewidth\":0,\"ticks\":\"\"}},\"type\":\"scatterpolar\"}],\"scatterpolargl\":[{\"marker\":{\"colorbar\":{\"outlinewidth\":0,\"ticks\":\"\"}},\"type\":\"scatterpolargl\"}],\"scatterternary\":[{\"marker\":{\"colorbar\":{\"outlinewidth\":0,\"ticks\":\"\"}},\"type\":\"scatterternary\"}],\"surface\":[{\"colorbar\":{\"outlinewidth\":0,\"ticks\":\"\"},\"colorscale\":[[0.0,\"#0d0887\"],[0.1111111111111111,\"#46039f\"],[0.2222222222222222,\"#7201a8\"],[0.3333333333333333,\"#9c179e\"],[0.4444444444444444,\"#bd3786\"],[0.5555555555555556,\"#d8576b\"],[0.6666666666666666,\"#ed7953\"],[0.7777777777777778,\"#fb9f3a\"],[0.8888888888888888,\"#fdca26\"],[1.0,\"#f0f921\"]],\"type\":\"surface\"}],\"table\":[{\"cells\":{\"fill\":{\"color\":\"#EBF0F8\"},\"line\":{\"color\":\"white\"}},\"header\":{\"fill\":{\"color\":\"#C8D4E3\"},\"line\":{\"color\":\"white\"}},\"type\":\"table\"}]},\"layout\":{\"annotationdefaults\":{\"arrowcolor\":\"#2a3f5f\",\"arrowhead\":0,\"arrowwidth\":1},\"autotypenumbers\":\"strict\",\"coloraxis\":{\"colorbar\":{\"outlinewidth\":0,\"ticks\":\"\"}},\"colorscale\":{\"diverging\":[[0,\"#8e0152\"],[0.1,\"#c51b7d\"],[0.2,\"#de77ae\"],[0.3,\"#f1b6da\"],[0.4,\"#fde0ef\"],[0.5,\"#f7f7f7\"],[0.6,\"#e6f5d0\"],[0.7,\"#b8e186\"],[0.8,\"#7fbc41\"],[0.9,\"#4d9221\"],[1,\"#276419\"]],\"sequential\":[[0.0,\"#0d0887\"],[0.1111111111111111,\"#46039f\"],[0.2222222222222222,\"#7201a8\"],[0.3333333333333333,\"#9c179e\"],[0.4444444444444444,\"#bd3786\"],[0.5555555555555556,\"#d8576b\"],[0.6666666666666666,\"#ed7953\"],[0.7777777777777778,\"#fb9f3a\"],[0.8888888888888888,\"#fdca26\"],[1.0,\"#f0f921\"]],\"sequentialminus\":[[0.0,\"#0d0887\"],[0.1111111111111111,\"#46039f\"],[0.2222222222222222,\"#7201a8\"],[0.3333333333333333,\"#9c179e\"],[0.4444444444444444,\"#bd3786\"],[0.5555555555555556,\"#d8576b\"],[0.6666666666666666,\"#ed7953\"],[0.7777777777777778,\"#fb9f3a\"],[0.8888888888888888,\"#fdca26\"],[1.0,\"#f0f921\"]]},\"colorway\":[\"#636efa\",\"#EF553B\",\"#00cc96\",\"#ab63fa\",\"#FFA15A\",\"#19d3f3\",\"#FF6692\",\"#B6E880\",\"#FF97FF\",\"#FECB52\"],\"font\":{\"color\":\"#2a3f5f\"},\"geo\":{\"bgcolor\":\"white\",\"lakecolor\":\"white\",\"landcolor\":\"#E5ECF6\",\"showlakes\":true,\"showland\":true,\"subunitcolor\":\"white\"},\"hoverlabel\":{\"align\":\"left\"},\"hovermode\":\"closest\",\"mapbox\":{\"style\":\"light\"},\"paper_bgcolor\":\"white\",\"plot_bgcolor\":\"#E5ECF6\",\"polar\":{\"angularaxis\":{\"gridcolor\":\"white\",\"linecolor\":\"white\",\"ticks\":\"\"},\"bgcolor\":\"#E5ECF6\",\"radialaxis\":{\"gridcolor\":\"white\",\"linecolor\":\"white\",\"ticks\":\"\"}},\"scene\":{\"xaxis\":{\"backgroundcolor\":\"#E5ECF6\",\"gridcolor\":\"white\",\"gridwidth\":2,\"linecolor\":\"white\",\"showbackground\":true,\"ticks\":\"\",\"zerolinecolor\":\"white\"},\"yaxis\":{\"backgroundcolor\":\"#E5ECF6\",\"gridcolor\":\"white\",\"gridwidth\":2,\"linecolor\":\"white\",\"showbackground\":true,\"ticks\":\"\",\"zerolinecolor\":\"white\"},\"zaxis\":{\"backgroundcolor\":\"#E5ECF6\",\"gridcolor\":\"white\",\"gridwidth\":2,\"linecolor\":\"white\",\"showbackground\":true,\"ticks\":\"\",\"zerolinecolor\":\"white\"}},\"shapedefaults\":{\"line\":{\"color\":\"#2a3f5f\"}},\"ternary\":{\"aaxis\":{\"gridcolor\":\"white\",\"linecolor\":\"white\",\"ticks\":\"\"},\"baxis\":{\"gridcolor\":\"white\",\"linecolor\":\"white\",\"ticks\":\"\"},\"bgcolor\":\"#E5ECF6\",\"caxis\":{\"gridcolor\":\"white\",\"linecolor\":\"white\",\"ticks\":\"\"}},\"title\":{\"x\":0.05},\"xaxis\":{\"automargin\":true,\"gridcolor\":\"white\",\"linecolor\":\"white\",\"ticks\":\"\",\"title\":{\"standoff\":15},\"zerolinecolor\":\"white\",\"zerolinewidth\":2},\"yaxis\":{\"automargin\":true,\"gridcolor\":\"white\",\"linecolor\":\"white\",\"ticks\":\"\",\"title\":{\"standoff\":15},\"zerolinecolor\":\"white\",\"zerolinewidth\":2}}},\"xaxis\":{\"anchor\":\"y\",\"domain\":[0.0,1.0],\"title\":{\"text\":\"Pattern\",\"font\":{\"size\":16},\"standoff\":25},\"tickfont\":{\"size\":10},\"tickangle\":45,\"showticklabels\":false},\"yaxis\":{\"anchor\":\"x\",\"domain\":[0.0,1.0],\"title\":{\"text\":\"Words left\",\"font\":{\"size\":16}},\"showgrid\":false,\"zeroline\":false},\"legend\":{\"tracegroupgap\":0},\"title\":{\"text\":\"Words left distribution for word: \\\"CULTS\\\"\"},\"barmode\":\"relative\",\"height\":1000,\"hoverlabel\":{\"bgcolor\":\"white\"},\"hovermode\":\"x\",\"autosize\":true},                        {\"responsive\": true}                    ).then(function(){\n",
       "                            \n",
       "var gd = document.getElementById('6a3a6289-f198-4626-b452-484df74bd109');\n",
       "var x = new MutationObserver(function (mutations, observer) {{\n",
       "        var display = window.getComputedStyle(gd).display;\n",
       "        if (!display || display === 'none') {{\n",
       "            console.log([gd, 'removed!']);\n",
       "            Plotly.purge(gd);\n",
       "            observer.disconnect();\n",
       "        }}\n",
       "}});\n",
       "\n",
       "// Listen for the removal of the full notebook cells\n",
       "var notebookContainer = gd.closest('#notebook-container');\n",
       "if (notebookContainer) {{\n",
       "    x.observe(notebookContainer, {childList: true});\n",
       "}}\n",
       "\n",
       "// Listen for the clearing of the current output cell\n",
       "var outputEl = gd.closest('.output');\n",
       "if (outputEl) {{\n",
       "    x.observe(outputEl, {childList: true});\n",
       "}}\n",
       "\n",
       "                        })                };                });            </script>        </div>"
      ]
     },
     "metadata": {},
     "output_type": "display_data"
    }
   ],
   "source": [
    "word = \"cults\"\n",
    "patterns = compute_patterns()\n",
    "possible_words = get_word_list(all=True)\n",
    "\n",
    "# array mapping the number of words left for each pattern related to a given word\n",
    "words_left = []\n",
    "\n",
    "for pattern in patterns:\n",
    "    count, words = count_words_left_from_pattern(word, pattern, possible_words)\n",
    "    if count > 0:\n",
    "        words_left.append({\n",
    "            'pattern': pattern_to_chart_label_string(pattern), 'value': count, 'words': words })\n",
    "\n",
    "# building pandas like data frame sorted by value compatible with plotly express bar\n",
    "df = pd.DataFrame(\n",
    "    data=words_left,\n",
    "    columns=['pattern', 'value', 'words']\n",
    ").sort_values(\n",
    "    by='value',\n",
    "    ascending=False\n",
    ")\n",
    "\n",
    "# figure manipulation\n",
    "fig = px.bar(\n",
    "    data_frame=df,\n",
    "    x='pattern',\n",
    "    y='value',\n",
    "    title=f'Words left distribution for word: \"{word.upper()}\"',\n",
    "    height=1000,\n",
    "    text='value',\n",
    "    hover_data=['pattern', 'value'],\n",
    ")\n",
    "\n",
    "fig.update_xaxes(\n",
    "    tickangle=45,\n",
    "    tickfont=dict(size=10),\n",
    "    title_text=\"Pattern\",\n",
    "    title_font={\"size\": 16},\n",
    "    title_standoff=25,\n",
    "    showticklabels=False\n",
    ")\n",
    "\n",
    "fig.update_yaxes(\n",
    "    title_text=\"Words left\",\n",
    "    title_font={\"size\": 16},\n",
    "    showgrid=False,\n",
    "    zeroline=False\n",
    ")\n",
    "\n",
    "fig.update_layout(\n",
    "    hovermode=\"x\",\n",
    "    hoverlabel=dict(\n",
    "        bgcolor=\"white\",\n",
    "    ),\n",
    "    autosize=True\n",
    ")\n",
    "\n",
    "fig.update_traces(\n",
    "    marker_color='rgb(37,106,236)',\n",
    "    marker_line_width=1.5,\n",
    ")\n",
    "\n",
    "fig.show()"
   ]
  },
  {
   "cell_type": "code",
   "execution_count": 14,
   "id": "bf2cd666",
   "metadata": {},
   "outputs": [],
   "source": [
    "# takes too long and too many resources, meanaing my computer can't handle this algorithm ...\n",
    "# ... using a virtual server on DigitalOcean to handle the computation.\n",
    "\n",
    "def compute_entropies():\n",
    "    patterns = compute_patterns()\n",
    "    allowed_words = get_word_list(all=True)\n",
    "    possible_words = get_word_list(all=False)\n",
    "\n",
    "    json_file_entropies = { \"entropies\": [] }\n",
    "\n",
    "    for allowed_word in tqdm(allowed_words, \"Calculating entropies...\"):\n",
    "        E = calculate_entropy(allowed_word, possible_words, patterns)\n",
    "        json_file_entropies[\"entropies\"].append({ f'{allowed_word}': E  })\n",
    "        print(f'Entropy for \"{allowed_word}\" is: {E}')\n",
    "\n",
    "    write_json(json_file_entropies, filename='./data/entropies.json')"
   ]
  },
  {
   "cell_type": "code",
   "execution_count": 22,
   "id": "c5a0ed7f",
   "metadata": {},
   "outputs": [
    {
     "data": {
      "application/vnd.jupyter.widget-view+json": {
       "model_id": "f61bfc101e1e42b49668cda6e618dbf6",
       "version_major": 2,
       "version_minor": 0
      },
      "text/plain": [
       "Generating patterns:   0%|          | 0/3 [00:00<?, ?it/s]"
      ]
     },
     "metadata": {},
     "output_type": "display_data"
    },
    {
     "data": {
      "application/vnd.jupyter.widget-view+json": {
       "model_id": "d180c5460e7a43faa465f11bb23235d9",
       "version_major": 2,
       "version_minor": 0
      },
      "text/plain": [
       "Calculating entropy for \"soare\":   0%|          | 0/243 [00:00<?, ?it/s]"
      ]
     },
     "metadata": {},
     "output_type": "display_data"
    },
    {
     "name": "stdout",
     "output_type": "stream",
     "text": [
      "Entropy for soare is: 5.885960110378861\n"
     ]
    }
   ],
   "source": [
    "patterns = compute_patterns()\n",
    "possible_words = get_word_list(all=False)\n",
    "\n",
    "word = \"soare\"\n",
    "\n",
    "E = calculate_entropy(word, possible_words, patterns)    \n",
    "print(f'Entropy for {word} is: {E}')"
   ]
  },
  {
   "cell_type": "code",
   "execution_count": 17,
   "id": "8de329fa",
   "metadata": {},
   "outputs": [],
   "source": [
    "def best_word_opener():\n",
    "    with open('./data/entropies.json') as file:\n",
    "        # Loading existing data into a dictionary\n",
    "        file_data = json.load(file)\n",
    "        highest_entropy = max(file_data['entropies'], key=lambda val: val[[*val.keys()][0]])\n",
    "    return highest_entropy"
   ]
  },
  {
   "cell_type": "code",
   "execution_count": 18,
   "id": "3d002b36",
   "metadata": {},
   "outputs": [
    {
     "data": {
      "text/plain": [
       "{'soare': 5.885960110378861}"
      ]
     },
     "execution_count": 18,
     "metadata": {},
     "output_type": "execute_result"
    }
   ],
   "source": [
    "best_word_opener()"
   ]
  }
 ],
 "metadata": {
  "kernelspec": {
   "display_name": "Python 3 (ipykernel)",
   "language": "python",
   "name": "python3"
  },
  "language_info": {
   "codemirror_mode": {
    "name": "ipython",
    "version": 3
   },
   "file_extension": ".py",
   "mimetype": "text/x-python",
   "name": "python",
   "nbconvert_exporter": "python",
   "pygments_lexer": "ipython3",
   "version": "3.9.7"
  }
 },
 "nbformat": 4,
 "nbformat_minor": 5
}
