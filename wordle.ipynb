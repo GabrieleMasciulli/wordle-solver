{
 "cells": [
  {
   "cell_type": "code",
   "execution_count": 1,
   "id": "65706560",
   "metadata": {},
   "outputs": [],
   "source": [
    "import sys\n",
    "import pandas as pd\n",
    "import plotly.express as px\n",
    "import json\n",
    "from math import log2\n",
    "from tqdm.notebook import tqdm"
   ]
  },
  {
   "cell_type": "code",
   "execution_count": 2,
   "id": "a27d45fa",
   "metadata": {},
   "outputs": [],
   "source": [
    "# globals\n",
    "POSSIBLE_WORDS_FILE = './data/possible_words.txt'\n",
    "ALLOWED_WORDS_FILE = './data/allowed_words.txt'"
   ]
  },
  {
   "cell_type": "code",
   "execution_count": 3,
   "id": "5b443452",
   "metadata": {},
   "outputs": [],
   "source": [
    "def get_word_list(all):  # returns a list of strings\n",
    "    result = []\n",
    "\n",
    "    # loading either the allowed or possible words\n",
    "    file = ALLOWED_WORDS_FILE if all else POSSIBLE_WORDS_FILE\n",
    "    with open(file):\n",
    "        result.extend([word.strip() for word in open(file).readlines()])\n",
    "\n",
    "    return result\n"
   ]
  },
  {
   "cell_type": "code",
   "execution_count": 4,
   "id": "66009831",
   "metadata": {},
   "outputs": [],
   "source": [
    "# returns true if the word passed as a parameter matches the given patter, false otherwise\n",
    "\n",
    "# Reminder of how Wordle works when it comes to match the pattern of an allowed  word to the word to guess:\n",
    "#   If the allowed word has multiple occurences of the same letter and one is  green\n",
    "#   and the other is black it means that the word to guess has that letter at that\n",
    "#   index but it does not have any other occurence of that letter.\n",
    "#   The same applies when it comes to yellow letters: if one occurence is yellow and\n",
    "#   the other is black it means that there's no second occurence of that letter in the\n",
    "#   word we're guessing.\n",
    "#\n",
    "# This is the reason that forces us to count the number of occurences for each letter to prevent\n",
    "# mistakes and bugs.\n",
    "\n",
    "\n",
    "def matches_pattern(word, possible_word, pattern):\n",
    "    match = False\n",
    "\n",
    "    for i, color in enumerate(pattern):\n",
    "        letter_occurences = word.count(word[i])\n",
    "\n",
    "        if color == 'black':\n",
    "            # if letter occurs just once with a black cell then the possible\n",
    "            # word must not have any occurence for that letter in order to match.\n",
    "            if letter_occurences == 1:\n",
    "                match = possible_word.find(word[i]) == -1\n",
    "            else:\n",
    "                # if the letter occurs more than once throughout the word then a\n",
    "                # match is found if both the letter at index i of the possible word\n",
    "                # doesn't correspond to to the letter at index i of the word and\n",
    "                # the number of occurences of that letter corresponds for both words.\n",
    "\n",
    "                match = possible_word[i] != word[i] and possible_word.count(\n",
    "                    word[i]) == letter_occurences\n",
    "        elif color == 'green':\n",
    "            # letter at index i MUST correspond\n",
    "            match = possible_word[i] == word[i]\n",
    "        elif color == 'yellow':\n",
    "            match = possible_word[i] != word[i] and possible_word.find(\n",
    "                word[i]) != -1\n",
    "\n",
    "        if not match:\n",
    "            break\n",
    "\n",
    "    return match"
   ]
  },
  {
   "cell_type": "code",
   "execution_count": 5,
   "id": "fc7d6128",
   "metadata": {},
   "outputs": [],
   "source": [
    "def count_words_left_from_pattern(word, pattern, possible_words):\n",
    "    count = 0\n",
    "    words_left = []\n",
    "\n",
    "    for possible_word in possible_words:\n",
    "        if matches_pattern(word, possible_word, pattern):\n",
    "            count += 1\n",
    "            words_left.append(possible_word)\n",
    "\n",
    "    return (count, words_left)"
   ]
  },
  {
   "cell_type": "code",
   "execution_count": 6,
   "id": "00d94ba3",
   "metadata": {},
   "outputs": [],
   "source": [
    "# in wordle a pattern is an assignment for each letter in the word of either the color green,\n",
    "# yellow or grey, respectively meaning that the letter was in the right position, it occured\n",
    "# at least once in the word but in the wrong position and it wasn't at all in the word.\n",
    "\n",
    "\n",
    "def compute_patterns():  # returns a list of tuples (each tuple represents a specific pattern)\n",
    "    colors = ['black', 'yellow', 'green']\n",
    "\n",
    "    patterns = []\n",
    "\n",
    "    # less verbose way to create the pattern array\n",
    "    patterns = [(a, b, c, d, e)\n",
    "                for a in tqdm(colors, \"Generating patterns\") for b in colors for c in colors for d in colors for e in colors]  # all possible patterns for a 5-letter word\n",
    "    return patterns"
   ]
  },
  {
   "cell_type": "code",
   "execution_count": 7,
   "id": "3a2e83c3",
   "metadata": {},
   "outputs": [],
   "source": [
    "# returns a string used by the chart to display each pattern in the x-axis labels\n",
    "\n",
    "def pattern_to_chart_label_string(pattern):\n",
    "    label = ''\n",
    "    \n",
    "    for color in pattern:\n",
    "        if color == 'black':\n",
    "            label += '⬛'\n",
    "        if color == 'green':\n",
    "            label += '🟩'\n",
    "        if color == 'yellow':\n",
    "            label += '🟨'\n",
    "    return label"
   ]
  },
  {
   "cell_type": "code",
   "execution_count": 8,
   "id": "9fae35af",
   "metadata": {},
   "outputs": [],
   "source": [
    "# probabilty in this case is defined as the words left\n",
    "# from a specific pattern over the total number of words\n",
    "def probability(words_total, words_left):\n",
    "    return words_left / words_total"
   ]
  },
  {
   "cell_type": "code",
   "execution_count": 9,
   "id": "7ac97ae7",
   "metadata": {},
   "outputs": [],
   "source": [
    "# surprise is defined as the logarithm base 2 of one over the probability\n",
    "def surprise(probability):\n",
    "    return log2(1/probability)"
   ]
  },
  {
   "cell_type": "code",
   "execution_count": 10,
   "id": "f3c0be96",
   "metadata": {},
   "outputs": [],
   "source": [
    "# entropy is the expected value of the surprise given a specific patter related to a word.\n",
    "#\n",
    "# In our case the entropy is defined as:\n",
    "# E(surpise) = - ∑ p(x) * log2(p(x))\n",
    "#\n",
    "# where p(x) is the probability to get a pattern x and \n",
    "# log2(p(x)) is the surpise we get given a pattern\n",
    "\n",
    "def calculate_entropy(word, possible_words, patterns):\n",
    "    E = 0\n",
    "    \n",
    "    for pattern in tqdm(patterns, f'Calculating entropy for \"{word}\"'):\n",
    "        count, words_left = count_words_left_from_pattern(word, pattern, possible_words)\n",
    "        if count > 0:\n",
    "            p = probability(len(possible_words), len(words_left))\n",
    "            s = surprise(p)\n",
    "            E += s * p\n",
    "        \n",
    "    return E"
   ]
  },
  {
   "cell_type": "code",
   "execution_count": 11,
   "id": "6ff085b5",
   "metadata": {},
   "outputs": [],
   "source": [
    "def write_json(new_data, filename):\n",
    "    with open(filename, 'r+') as file:\n",
    "        # Loading existing data into a dictionary\n",
    "        file_data = json.load(file)\n",
    "        file_data['entropies'].update(new_data)\n",
    "        file.seek(0)\n",
    "        json.dump(file_data, file, indent=4)"
   ]
  },
  {
   "cell_type": "code",
   "execution_count": 32,
   "id": "64dc82ca",
   "metadata": {},
   "outputs": [],
   "source": [
    "def words_left_distribution_graph(word):\n",
    "    patterns = compute_patterns()\n",
    "    possible_words = get_word_list(all=True)\n",
    "\n",
    "    # array mapping the number of words left for each pattern related to a given word\n",
    "    words_left = []\n",
    "\n",
    "    for pattern in patterns:\n",
    "        count, words = count_words_left_from_pattern(word, pattern, possible_words)\n",
    "        if count > 0:\n",
    "            words_left.append({\n",
    "                'pattern': pattern_to_chart_label_string(pattern), 'value': count, 'words': words })\n",
    "\n",
    "    # building pandas like data frame sorted by value compatible with plotly express bar\n",
    "    df = pd.DataFrame(\n",
    "        data=words_left,\n",
    "        columns=['pattern', 'value', 'words']\n",
    "    ).sort_values(\n",
    "        by='value',\n",
    "        ascending=False\n",
    "    )\n",
    "\n",
    "    # figure manipulation\n",
    "    fig = px.bar(\n",
    "        data_frame=df,\n",
    "        x='pattern',\n",
    "        y='value',\n",
    "        title=f'Words left distribution for word: \"{word.upper()}\"',\n",
    "        height=1000,\n",
    "        text='value',\n",
    "        hover_data=['pattern', 'value'],\n",
    "    )\n",
    "\n",
    "    fig.update_xaxes(\n",
    "        tickangle=45,\n",
    "        tickfont=dict(size=10),\n",
    "        title_text=\"Pattern\",\n",
    "        title_font={\"size\": 16},\n",
    "        title_standoff=25,\n",
    "        showticklabels=False\n",
    "    )\n",
    "\n",
    "    fig.update_yaxes(\n",
    "        title_text=\"Words left\",\n",
    "        title_font={\"size\": 16},\n",
    "        showgrid=False,\n",
    "        zeroline=False\n",
    "    )\n",
    "\n",
    "    fig.update_layout(\n",
    "        hovermode=\"x\",\n",
    "        hoverlabel=dict(\n",
    "            bgcolor=\"white\",\n",
    "        ),\n",
    "        autosize=True\n",
    "    )\n",
    "\n",
    "    fig.update_traces(\n",
    "        marker_color='rgb(37,106,236)',\n",
    "        marker_line_width=1.5,\n",
    "    )\n",
    "\n",
    "    fig.show()"
   ]
  },
  {
   "cell_type": "code",
   "execution_count": 14,
   "id": "bf2cd666",
   "metadata": {},
   "outputs": [],
   "source": [
    "# takes too long and too many resources, meanaing my computer can't handle this algorithm ...\n",
    "# ... using a virtual server on DigitalOcean to handle the computation.\n",
    "\n",
    "def compute_entropies():\n",
    "    patterns = compute_patterns()\n",
    "    allowed_words = get_word_list(all=True)\n",
    "    possible_words = get_word_list(all=False)\n",
    "\n",
    "    json_file_entropies = { \"entropies\": [] }\n",
    "\n",
    "    for allowed_word in tqdm(allowed_words, \"Calculating entropies...\"):\n",
    "        E = calculate_entropy(allowed_word, possible_words, patterns)\n",
    "        json_file_entropies[\"entropies\"].append({ f'{allowed_word}': E  })\n",
    "        print(f'Entropy for \"{allowed_word}\" is: {E}')\n",
    "\n",
    "    write_json(json_file_entropies, filename='./data/entropies.json')"
   ]
  },
  {
   "cell_type": "code",
   "execution_count": 23,
   "id": "c5a0ed7f",
   "metadata": {},
   "outputs": [],
   "source": [
    "def compute_single_entropy(word):\n",
    "    patterns = compute_patterns()\n",
    "    possible_words = get_word_list(all=False)\n",
    "    \n",
    "    E = calculate_entropy(word, possible_words, patterns)    \n",
    "    print(f'Entropy for {word} is: {E}')"
   ]
  },
  {
   "cell_type": "code",
   "execution_count": 38,
   "id": "8de329fa",
   "metadata": {},
   "outputs": [],
   "source": [
    "# given entropy (expected surprise which gives us a numerical value for how \n",
    "# much information we expect to get from a specific patter related to a word),\n",
    "# we maximise its distribution to look for the best possible word for us to be\n",
    "# maximally surprised(meaning to get the highest amout of information from a single word).\n",
    "\n",
    "\n",
    "def best_word_opener():\n",
    "    with open('./data/entropies.json') as file:\n",
    "        # Loading existing data into a dictionary\n",
    "        file_data = json.load(file)\n",
    "        highest_entropy = max(file_data['entropies'], key=lambda val: val[[*val.keys()][0]])\n",
    "    return highest_entropy"
   ]
  },
  {
   "cell_type": "code",
   "execution_count": 39,
   "id": "3d002b36",
   "metadata": {},
   "outputs": [
    {
     "data": {
      "text/plain": [
       "{'soare': 5.885960110378861}"
      ]
     },
     "execution_count": 39,
     "metadata": {},
     "output_type": "execute_result"
    }
   ],
   "source": [
    "best_word_opener()"
   ]
  }
 ],
 "metadata": {
  "kernelspec": {
   "display_name": "Python 3 (ipykernel)",
   "language": "python",
   "name": "python3"
  },
  "language_info": {
   "codemirror_mode": {
    "name": "ipython",
    "version": 3
   },
   "file_extension": ".py",
   "mimetype": "text/x-python",
   "name": "python",
   "nbconvert_exporter": "python",
   "pygments_lexer": "ipython3",
   "version": "3.9.7"
  }
 },
 "nbformat": 4,
 "nbformat_minor": 5
}
